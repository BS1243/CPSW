{
 "cells": [
  {
   "cell_type": "code",
   "execution_count": 3,
   "id": "3eb2424b",
   "metadata": {},
   "outputs": [
    {
     "name": "stdout",
     "output_type": "stream",
     "text": [
      "100과 200의 합 : 300\n"
     ]
    }
   ],
   "source": [
    "add=lambda x,y:x+y\n",
    "print('100과 200의 합 :',add(100,200))"
   ]
  },
  {
   "cell_type": "code",
   "execution_count": 6,
   "id": "93a5c42f",
   "metadata": {},
   "outputs": [
    {
     "name": "stdout",
     "output_type": "stream",
     "text": [
      "200-100= 100\n",
      "200-100= 100\n"
     ]
    }
   ],
   "source": [
    "#LAB 10-1\n",
    "\n",
    "def subf(x,y):\n",
    "    return x-y\n",
    "print('200-100=',subf(200,100))\n",
    "sub=lambda x,y:x-y\n",
    "print('200-100=',sub(200,100))"
   ]
  },
  {
   "cell_type": "code",
   "execution_count": 18,
   "id": "c1f5183c",
   "metadata": {},
   "outputs": [
    {
     "name": "stdout",
     "output_type": "stream",
     "text": [
      "[2, 4, 6, 8, 10]\n",
      "[2, 4, 6, 8, 10]\n"
     ]
    }
   ],
   "source": [
    "#LAB 10-2\n",
    "num=list(range(1,11))\n",
    "\n",
    "even_list=list(filter(lambda x:x%2==0,num))\n",
    "print(even_list)\n",
    "\n",
    "\n",
    "even_list=[]\n",
    "for i in filter(lambda x:x%2==0,num):\n",
    "    even_list.append(i)\n",
    "print(even_list)"
   ]
  },
  {
   "cell_type": "code",
   "execution_count": 19,
   "id": "8b66e3cc",
   "metadata": {},
   "outputs": [
    {
     "name": "stdout",
     "output_type": "stream",
     "text": [
      "[1, 3, 5, 7, 9]\n",
      "[1, 3, 5, 7, 9]\n"
     ]
    }
   ],
   "source": [
    "odd_list=list(filter(lambda x:x%2!=0,num))\n",
    "print(odd_list)\n",
    "\n",
    "\n",
    "odd_list=[]\n",
    "for i in filter(lambda x:x%2!=0,num):\n",
    "    odd_list.append(i)\n",
    "print(odd_list)"
   ]
  },
  {
   "cell_type": "code",
   "execution_count": 37,
   "id": "0fbb1554",
   "metadata": {},
   "outputs": [
    {
     "name": "stdout",
     "output_type": "stream",
     "text": [
      "['A', 'B', 'C', 'D']\n",
      "['A', 'B', 'C', 'D']\n",
      "입력 값의 두배 : [20, 40, 60]\n",
      "입력 값의 세배 : [30, 60, 90]\n",
      "입력 값의 두배 : [20, 40, 60]\n",
      "입력 값의 세배 : [30, 60, 90]\n"
     ]
    }
   ],
   "source": [
    "#LAB 10-3\n",
    "a_list=['a','b','c','d']\n",
    "def to_upper(alp):\n",
    "    return alp.upper()\n",
    "upper_a=list(map(to_upper,a_list))\n",
    "print(upper_a)ㅣ\n",
    "\n",
    "upper_a=list(map(lambda a:a.upper(),a_list))\n",
    "print(upper_a)\n",
    "\n",
    "\n",
    "n_list=[10,20,30]\n",
    "def twice(n):\n",
    "    return n*2\n",
    "def triple(n):\n",
    "    return n*3\n",
    "tw_n=list(map(twice,n_list))\n",
    "tr_n=list(map(triple,n_list))\n",
    "print('입력 값의 두배 :',tw_n)\n",
    "print('입력 값의 세배 :',tr_n)\n",
    "tw_n=list(map(lambda a:a*2,n_list))\n",
    "tr_n=list(map(lambda a:a*3,n_list))\n",
    "print('입력 값의 두배 :',tw_n)\n",
    "print('입력 값의 세배 :',tr_n)"
   ]
  },
  {
   "cell_type": "code",
   "execution_count": 41,
   "id": "1d258059",
   "metadata": {},
   "outputs": [
    {
     "name": "stdout",
     "output_type": "stream",
     "text": [
      "5050\n",
      "3628800\n"
     ]
    }
   ],
   "source": [
    "#LAB 10-4\n",
    "from functools import reduce\n",
    "n=reduce(lambda x,y:x+y,range(0,101))\n",
    "print(n)\n",
    "\n",
    "n=reduce(lambda x,y:x*y,range(1,11))\n",
    "print(n)"
   ]
  },
  {
   "cell_type": "code",
   "execution_count": 50,
   "id": "01abd670",
   "metadata": {},
   "outputs": [
    {
     "name": "stdout",
     "output_type": "stream",
     "text": [
      "[1, 8, 27, 64, 125, 216, 343, 512, 729, 1000]\n",
      "['w', 't', 't', 'p', 'w']\n"
     ]
    }
   ],
   "source": [
    "#LAB 10-5\n",
    "cubic=[x**3 for x in range(1,11)]\n",
    "print(cubic)\n",
    "\n",
    "a=['welcome','to','the','python','world']\n",
    "first_a=[fa[0] for fa in a]\n",
    "print(first_a)"
   ]
  },
  {
   "cell_type": "code",
   "execution_count": 52,
   "id": "49661ece",
   "metadata": {},
   "outputs": [
    {
     "name": "stdout",
     "output_type": "stream",
     "text": [
      "[1, 8, 27, 64, 125, 216, 343]\n"
     ]
    }
   ],
   "source": [
    "#LAB 10-6\n",
    "cubic=[n**3 for n in range(1,10) if n**3<500]\n",
    "print(cubic)"
   ]
  },
  {
   "cell_type": "code",
   "execution_count": 55,
   "id": "4bfb01b0",
   "metadata": {},
   "outputs": [
    {
     "name": "stdout",
     "output_type": "stream",
     "text": [
      "['1', '2', '3', '4']\n"
     ]
    }
   ],
   "source": [
    "st='Hello 1234 Python'\n",
    "numst=[n for n in st if n.isdigit()]\n",
    "print(numst)"
   ]
  },
  {
   "cell_type": "code",
   "execution_count": 69,
   "id": "f2ca7317",
   "metadata": {},
   "outputs": [
    {
     "name": "stdout",
     "output_type": "stream",
     "text": [
      "0 2 4 6 8 "
     ]
    }
   ],
   "source": [
    "#LAB 10-7\n",
    "class Evencounter:\n",
    "    def __init__(self,n=0):\n",
    "        self.n=n\n",
    "    def __next__(self):\n",
    "        t=self.n\n",
    "        self.n+=2\n",
    "        return t\n",
    "    def __iter__(self):\n",
    "        return self\n",
    "    \n",
    "my_counter=Evencounter()\n",
    "for x in my_counter:\n",
    "    if x>8:\n",
    "        break\n",
    "    print(x,end=' ')"
   ]
  },
  {
   "cell_type": "code",
   "execution_count": 78,
   "id": "deafac37",
   "metadata": {},
   "outputs": [
    {
     "name": "stdout",
     "output_type": "stream",
     "text": [
      "0 2 4 6 8 10 12 14 16 18 20 "
     ]
    }
   ],
   "source": [
    "class Evencounter:\n",
    "    def __init__(self,n=0):\n",
    "        self.n=n\n",
    "    def __next__(self):\n",
    "        t=self.n\n",
    "        self.n+=2\n",
    "        return t\n",
    "    def __iter__(self):\n",
    "        return self\n",
    "    \n",
    "my_counter=Evencounter()\n",
    "for x in my_counter:\n",
    "    if x>20:\n",
    "        break\n",
    "    print(x,end=' ')"
   ]
  },
  {
   "cell_type": "code",
   "execution_count": 79,
   "id": "8b61cf76",
   "metadata": {},
   "outputs": [
    {
     "name": "stdout",
     "output_type": "stream",
     "text": [
      "['Welcome', 'to', 'Busan', 'Metropolitan', 'City']\n",
      "['Hello', 'My name is DongMin', 'Good to see you again']\n",
      "['Apple', 'Banana', 'Melon', 'Orange']\n"
     ]
    }
   ],
   "source": [
    "#LAB 10-8\n",
    "txt='Welcome to Busan Metropolitan City'\n",
    "print(txt.split())\n",
    "\n",
    "greet='Hello,My name is DongMin,Good to see you again'\n",
    "print(greet.split(','))\n",
    "\n",
    "fruits='Apple|Banana|Melon|Orange'\n",
    "print(fruits.split('|'))"
   ]
  },
  {
   "cell_type": "code",
   "execution_count": null,
   "id": "91b6d607",
   "metadata": {},
   "outputs": [],
   "source": []
  }
 ],
 "metadata": {
  "kernelspec": {
   "display_name": "Python 3 (ipykernel)",
   "language": "python",
   "name": "python3"
  },
  "language_info": {
   "codemirror_mode": {
    "name": "ipython",
    "version": 3
   },
   "file_extension": ".py",
   "mimetype": "text/x-python",
   "name": "python",
   "nbconvert_exporter": "python",
   "pygments_lexer": "ipython3",
   "version": "3.9.12"
  }
 },
 "nbformat": 4,
 "nbformat_minor": 5
}
