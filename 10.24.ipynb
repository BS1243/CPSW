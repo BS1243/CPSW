{
 "cells": [
  {
   "cell_type": "code",
   "execution_count": 2,
   "id": "1e20235a",
   "metadata": {},
   "outputs": [
    {
     "ename": "IndexError",
     "evalue": "list index out of range",
     "output_type": "error",
     "traceback": [
      "\u001b[1;31m---------------------------------------------------------------------------\u001b[0m",
      "\u001b[1;31mIndexError\u001b[0m                                Traceback (most recent call last)",
      "Input \u001b[1;32mIn [2]\u001b[0m, in \u001b[0;36m<cell line: 3>\u001b[1;34m()\u001b[0m\n\u001b[0;32m      1\u001b[0m \u001b[38;5;66;03m#LAB 8-1\u001b[39;00m\n\u001b[0;32m      2\u001b[0m a\u001b[38;5;241m=\u001b[39m[\u001b[38;5;241m10\u001b[39m,\u001b[38;5;241m20\u001b[39m,\u001b[38;5;241m30\u001b[39m]\n\u001b[1;32m----> 3\u001b[0m \u001b[43ma\u001b[49m\u001b[43m[\u001b[49m\u001b[38;5;241;43m3\u001b[39;49m\u001b[43m]\u001b[49m\n",
      "\u001b[1;31mIndexError\u001b[0m: list index out of range"
     ]
    }
   ],
   "source": [
    "#LAB 8-1\n",
    "a=[10,20,30]\n",
    "a[3]"
   ]
  },
  {
   "cell_type": "code",
   "execution_count": 3,
   "id": "b7258305",
   "metadata": {},
   "outputs": [
    {
     "ename": "ValueError",
     "evalue": "invalid literal for int() with base 10: '20%'",
     "output_type": "error",
     "traceback": [
      "\u001b[1;31m---------------------------------------------------------------------------\u001b[0m",
      "\u001b[1;31mValueError\u001b[0m                                Traceback (most recent call last)",
      "Input \u001b[1;32mIn [3]\u001b[0m, in \u001b[0;36m<cell line: 1>\u001b[1;34m()\u001b[0m\n\u001b[1;32m----> 1\u001b[0m n\u001b[38;5;241m=\u001b[39m\u001b[38;5;28;43mint\u001b[39;49m\u001b[43m(\u001b[49m\u001b[38;5;124;43m'\u001b[39;49m\u001b[38;5;124;43m20\u001b[39;49m\u001b[38;5;124;43m%\u001b[39;49m\u001b[38;5;124;43m'\u001b[39;49m\u001b[43m)\u001b[49m\n",
      "\u001b[1;31mValueError\u001b[0m: invalid literal for int() with base 10: '20%'"
     ]
    }
   ],
   "source": [
    "n=int('20%')"
   ]
  },
  {
   "cell_type": "code",
   "execution_count": 4,
   "id": "962700dc",
   "metadata": {},
   "outputs": [
    {
     "ename": "TypeError",
     "evalue": "unsupported operand type(s) for +: 'int' and 'str'",
     "output_type": "error",
     "traceback": [
      "\u001b[1;31m---------------------------------------------------------------------------\u001b[0m",
      "\u001b[1;31mTypeError\u001b[0m                                 Traceback (most recent call last)",
      "Input \u001b[1;32mIn [4]\u001b[0m, in \u001b[0;36m<cell line: 1>\u001b[1;34m()\u001b[0m\n\u001b[1;32m----> 1\u001b[0m a\u001b[38;5;241m=\u001b[39m\u001b[38;5;241;43m100\u001b[39;49m\u001b[38;5;241;43m+\u001b[39;49m\u001b[38;5;124;43m'\u001b[39;49m\u001b[38;5;124;43m200\u001b[39;49m\u001b[38;5;124;43m'\u001b[39;49m\n",
      "\u001b[1;31mTypeError\u001b[0m: unsupported operand type(s) for +: 'int' and 'str'"
     ]
    }
   ],
   "source": [
    "a=100+'200'"
   ]
  },
  {
   "cell_type": "code",
   "execution_count": 5,
   "id": "e5d33d97",
   "metadata": {},
   "outputs": [
    {
     "name": "stdout",
     "output_type": "stream",
     "text": [
      "Error:  list index out of range\n"
     ]
    }
   ],
   "source": [
    "try:\n",
    "    a=[10,20,30]\n",
    "    a[3]\n",
    "except Exception as e:\n",
    "    print('Error: ',e)"
   ]
  },
  {
   "cell_type": "code",
   "execution_count": 6,
   "id": "2285d379",
   "metadata": {},
   "outputs": [
    {
     "name": "stdout",
     "output_type": "stream",
     "text": [
      "Error:  invalid literal for int() with base 10: '20%'\n"
     ]
    }
   ],
   "source": [
    "try:\n",
    "    n=int('20%')\n",
    "except Exception as e:\n",
    "    print('Error: ',e)"
   ]
  },
  {
   "cell_type": "code",
   "execution_count": 7,
   "id": "ef01c69a",
   "metadata": {},
   "outputs": [
    {
     "name": "stdout",
     "output_type": "stream",
     "text": [
      "Error:  unsupported operand type(s) for +: 'int' and 'str'\n"
     ]
    }
   ],
   "source": [
    "try:\n",
    "    a=100+'200'\n",
    "except Exception as e:\n",
    "    print('Error: ',e)"
   ]
  },
  {
   "cell_type": "code",
   "execution_count": 41,
   "id": "117d8bba",
   "metadata": {},
   "outputs": [
    {
     "name": "stdout",
     "output_type": "stream",
     "text": [
      "0으로 나누는 오류\n"
     ]
    }
   ],
   "source": [
    "#LAB 8-2\n",
    "try:\n",
    "    10*(30/0)\n",
    "except ZeroDivisionError:\n",
    "    print('0으로 나누는 오류')"
   ]
  },
  {
   "cell_type": "code",
   "execution_count": 9,
   "id": "e4795d81",
   "metadata": {},
   "outputs": [
    {
     "name": "stdout",
     "output_type": "stream",
     "text": [
      "정수 x를 입력하세요: 4\n"
     ]
    }
   ],
   "source": [
    "x=int(input('정수 x를 입력하세요: '))\n",
    "#에러 없음"
   ]
  },
  {
   "cell_type": "code",
   "execution_count": 10,
   "id": "adf6fbbe",
   "metadata": {},
   "outputs": [
    {
     "name": "stdout",
     "output_type": "stream",
     "text": [
      "파일 못찾았을때 나는 오류\n"
     ]
    }
   ],
   "source": [
    "import sys\n",
    "try:\n",
    "    f=open('myfile.txt')\n",
    "    s=f.readline()\n",
    "except FileNotFoundError:\n",
    "    print('파일 못찾았을때 나는 오류')"
   ]
  },
  {
   "cell_type": "code",
   "execution_count": 11,
   "id": "677d3055",
   "metadata": {},
   "outputs": [
    {
     "name": "stdout",
     "output_type": "stream",
     "text": [
      "a의 요소를 하나 선택하시오3\n",
      "3 은 3 번째 요소 입니다.\n"
     ]
    }
   ],
   "source": [
    "#LAB 8-3\n",
    "a=[1,2,3,4,5]\n",
    "try:\n",
    "    findnum=int(input('a의 요소를 하나 선택하시오' ))\n",
    "except ValueError:\n",
    "    print('오류 : 입력값이 정수나 실수가 아님')\n",
    "else:\n",
    "    print(findnum,'은',a.index(findnum)+1,'번째 요소 입니다.')\n",
    "    "
   ]
  },
  {
   "cell_type": "code",
   "execution_count": 12,
   "id": "29ce0c63",
   "metadata": {},
   "outputs": [
    {
     "name": "stdout",
     "output_type": "stream",
     "text": [
      "예/아니오 중 하나를 입력하세요 :네\n",
      "error: 입력을 확인하세요\n",
      "예/아니오 중 하나를 입력하세요 :예\n",
      "정상적인 입력입니다.\n"
     ]
    }
   ],
   "source": [
    "def get_ans(ans):\n",
    "    if ans in ['예','아니오']:\n",
    "        print('정상적인 입력입니다.')\n",
    "    \n",
    "    else:\n",
    "        raise ValueError('입력을 확인하세요')\n",
    "        \n",
    "while True:\n",
    "    try:\n",
    "        ans=input('예/아니오 중 하나를 입력하세요 :')\n",
    "        get_ans(ans)\n",
    "        break\n",
    "    except Exception as e:\n",
    "        print('error:',e)"
   ]
  },
  {
   "cell_type": "code",
   "execution_count": 13,
   "id": "f1939955",
   "metadata": {},
   "outputs": [],
   "source": [
    "#LAB 8-4\n",
    "f=open('numbers.txt','w')\n",
    "f.write('100\\n')\n",
    "f.write('200\\n')\n",
    "f.write('300\\n')\n",
    "f.write('400\\n')\n",
    "f.close()"
   ]
  },
  {
   "cell_type": "code",
   "execution_count": 14,
   "id": "da22822a",
   "metadata": {},
   "outputs": [
    {
     "data": {
      "text/plain": [
       "229"
      ]
     },
     "execution_count": 14,
     "metadata": {},
     "output_type": "execute_result"
    }
   ],
   "source": [
    "f=open('we_will_rock.txt','w')\n",
    "f.write(\"\"\"\n",
    "Buddy, you're a boy , make a big noise\n",
    "Playing in the street, gonna be a big man someday\n",
    "Yoou got mud on your face , you big disgrace\n",
    "Kicking your can all over the place, singin'\n",
    "We will,we will rock you\n",
    "We will,we will rockyou\n",
    "\"\"\")"
   ]
  },
  {
   "cell_type": "code",
   "execution_count": 15,
   "id": "b224c21c",
   "metadata": {},
   "outputs": [
    {
     "name": "stdout",
     "output_type": "stream",
     "text": [
      "100\n",
      "200\n",
      "300\n",
      "400\n"
     ]
    }
   ],
   "source": [
    "#LAB 8-5\n",
    "f=open('numbers.txt','r')\n",
    "print(f.readline().rstrip())\n",
    "print(f.readline().rstrip())\n",
    "print(f.readline().rstrip())\n",
    "print(f.readline().rstrip())\n",
    "f.close()"
   ]
  },
  {
   "cell_type": "code",
   "execution_count": 30,
   "id": "8360c191",
   "metadata": {},
   "outputs": [
    {
     "name": "stdout",
     "output_type": "stream",
     "text": [
      "\n",
      "Buddy, you're a boy , make a big noise\n",
      "Playing in the street, gonna be a big man someday\n",
      "Yoou got mud on your face , you big disgrace\n",
      "Kicking your can all over the place, singin'\n",
      "We will,we will rock you\n",
      "We will,we will rockyou\n"
     ]
    }
   ],
   "source": [
    "f=open('we_will_rock.txt','r')\n",
    "print(f.readline().rstrip())\n",
    "print(f.readline().rstrip())\n",
    "print(f.readline().rstrip())\n",
    "print(f.readline().rstrip())\n",
    "print(f.readline().rstrip())\n",
    "print(f.readline().rstrip())\n",
    "print(f.readline().rstrip())\n",
    "f.close()"
   ]
  },
  {
   "cell_type": "code",
   "execution_count": 32,
   "id": "31e7d19c",
   "metadata": {},
   "outputs": [
    {
     "name": "stdout",
     "output_type": "stream",
     "text": [
      "입력할 파일의 이름we_will_rock.txt\n"
     ]
    }
   ],
   "source": [
    "#LAB 8-6\n",
    "namefile=input('입력할 파일의 이름')\n",
    "f=open(namefile,'r')\n",
    "f2=open((namefile+'upper.txt'),'w')\n",
    "s=[]\n",
    "for _ in range(7):\n",
    "    s=f.readline().rstrip().upper()\n",
    "    f2.write(s)\n",
    "f.close()\n",
    "f2.close()"
   ]
  },
  {
   "cell_type": "code",
   "execution_count": null,
   "id": "ae9adc54",
   "metadata": {
    "scrolled": true
   },
   "outputs": [],
   "source": [
    "namefile=input('입력할 파일의 이름')\n",
    "f=open(namefile+'.txt','r')\n",
    "f2=open((namefile+'upper.txt'),'w')\n",
    "s=[]\n",
    "list(s)\n",
    "for i in range(7):\n",
    "    s.append=(f.readline().rstrip().upper())\n",
    "for i in range(7,-1,-1):\n",
    "    f2.write(s[i])\n",
    "    print(s[i])\n",
    "f.close()\n",
    "f2.close()"
   ]
  },
  {
   "cell_type": "code",
   "execution_count": 19,
   "id": "df4a46c3",
   "metadata": {},
   "outputs": [],
   "source": [
    "#연습 1.\n",
    "\n",
    "try:\n",
    "    f=open('numbers.txt','w')\n",
    "except PermissionError:\n",
    "    raise Exception('ERROR:: PermissionError[errno 13] Permission denied')\n",
    "else:\n",
    "    f.write('Hi, everyone.\\n')\n",
    "    f.write('Welcome to Python\\n')"
   ]
  },
  {
   "cell_type": "code",
   "execution_count": 20,
   "id": "b7e74c5d",
   "metadata": {},
   "outputs": [],
   "source": [
    "#연습 2.\n",
    "f=open('numberby1to10.txt','w')\n",
    "f.write(\"\"\"\n",
    "1\n",
    "2\n",
    "3\n",
    "4\n",
    "5\n",
    "6\n",
    "7\n",
    "8\n",
    "9\n",
    "10\n",
    "\"\"\")\n",
    "f.close()\n",
    "f=open('numberby1to10.txt','r')\n",
    "f2=open('numberby10.txt','w')\n",
    "for _ in range(12):\n",
    "    s=f.readline()\n",
    "    f2.write(s*10)\n",
    "f.close()\n",
    "f2.close()"
   ]
  },
  {
   "cell_type": "code",
   "execution_count": 22,
   "id": "94e8a9ef",
   "metadata": {},
   "outputs": [],
   "source": [
    "#연습 2-2.\n",
    "f=open('numberby1to10.txt','r')\n",
    "f2=open('numberby10.txt','r')\n",
    "f3=open('merge.txt','w')\n",
    "for _ in range(10):\n",
    "    s=f.readline()\n",
    "    s2=f.readline()\n",
    "    f3.write(s)\n",
    "    f3.write(\":\")\n",
    "    f3.write(s2)\n",
    "f.close()\n",
    "f2.close()"
   ]
  },
  {
   "cell_type": "code",
   "execution_count": 23,
   "id": "5fd134d6",
   "metadata": {},
   "outputs": [],
   "source": [
    "#연습 3.\n",
    "try:\n",
    "    f=open('numbers.txt','w')\n",
    "except PermissionError:\n",
    "    raise Exception('ERROR')\n",
    "else:\n",
    "    f.write('Hello Python')"
   ]
  },
  {
   "cell_type": "code",
   "execution_count": 24,
   "id": "dc5ca6ef",
   "metadata": {},
   "outputs": [
    {
     "name": "stdout",
     "output_type": "stream",
     "text": [
      "\n",
      "\n",
      "Hello\n",
      "\n",
      "Hi,there.\n",
      "\n"
     ]
    }
   ],
   "source": [
    "#연습 4.\n",
    "f=open('hello.txt','w')\n",
    "f.write(\"\"\"\n",
    "Hello\n",
    "Hi,there.\n",
    "\"\"\")\n",
    "f.close()\n",
    "f=open('hello.txt','r')\n",
    "for _ in range(3):\n",
    "    print(f.readline())\n",
    "f.close()\n",
    "f=open('hello.txt','a')\n",
    "f.write('Welcome to Python.\\n')\n",
    "f.close()"
   ]
  },
  {
   "cell_type": "code",
   "execution_count": 29,
   "id": "630c932b",
   "metadata": {},
   "outputs": [
    {
     "name": "stdout",
     "output_type": "stream",
     "text": [
      "1 : 3\n",
      "2 : 3\n",
      "3 : 2\n",
      "4 : 3\n",
      "5 : 1\n",
      "6 : 5\n",
      "7 : 3\n",
      "8 : 1\n",
      "9 : 6\n",
      "10 : 3\n"
     ]
    }
   ],
   "source": [
    "#연습 5.\n",
    "import random as rd\n",
    "f=open('randint30.txt','w')\n",
    "for _ in range(30):\n",
    "    dump=rd.randint(1,10)\n",
    "    f.write(str(dump))\n",
    "    f.write(\" \")\n",
    "f.close()\n",
    "num=[0,0,0,0,0,0,0,0,0,0,0]\n",
    "f=open('randint30.txt','r')\n",
    "s=f.readline().split()\n",
    "for i in s:\n",
    "    i=int(i)\n",
    "    num[i]+=1\n",
    "for i in range(1,11):\n",
    "    print(\"{} : {}\".format(i,num[i]))"
   ]
  },
  {
   "cell_type": "code",
   "execution_count": null,
   "id": "7e766beb",
   "metadata": {},
   "outputs": [],
   "source": []
  }
 ],
 "metadata": {
  "kernelspec": {
   "display_name": "Python 3 (ipykernel)",
   "language": "python",
   "name": "python3"
  },
  "language_info": {
   "codemirror_mode": {
    "name": "ipython",
    "version": 3
   },
   "file_extension": ".py",
   "mimetype": "text/x-python",
   "name": "python",
   "nbconvert_exporter": "python",
   "pygments_lexer": "ipython3",
   "version": "3.9.12"
  }
 },
 "nbformat": 4,
 "nbformat_minor": 5
}
