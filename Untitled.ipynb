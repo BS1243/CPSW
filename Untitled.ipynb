{
 "cells": [
  {
   "cell_type": "code",
   "execution_count": 24,
   "id": "afb7f720",
   "metadata": {},
   "outputs": [
    {
     "name": "stdout",
     "output_type": "stream",
     "text": [
      "[2, 4, 6, 8, 10]\n"
     ]
    }
   ],
   "source": [
    "#5-1\n",
    "even_list=[2,4,6,8,10]\n",
    "print(even_list)"
   ]
  },
  {
   "cell_type": "code",
   "execution_count": 27,
   "id": "411fc277",
   "metadata": {},
   "outputs": [
    {
     "name": "stdout",
     "output_type": "stream",
     "text": [
      "[2, 4, 6, 8, 10]\n"
     ]
    }
   ],
   "source": [
    "even_list=list(range(2,12,2))\n",
    "print(even_list)"
   ]
  },
  {
   "cell_type": "code",
   "execution_count": 28,
   "id": "dbb63360",
   "metadata": {},
   "outputs": [
    {
     "name": "stdout",
     "output_type": "stream",
     "text": [
      "['korea', 'China', 'India', 'Nepal']\n"
     ]
    }
   ],
   "source": [
    "nations=[\"korea\",\"China\",\"India\",\"Nepal\"]\n",
    "print(nations)"
   ]
  },
  {
   "cell_type": "code",
   "execution_count": 29,
   "id": "f143b15a",
   "metadata": {},
   "outputs": [
    {
     "name": "stdout",
     "output_type": "stream",
     "text": [
      "['길동', '철수', '은지', '지은', '영민']\n"
     ]
    }
   ],
   "source": [
    "friends=['길동','철수','은지','지은','영민']\n",
    "print(friends)"
   ]
  },
  {
   "cell_type": "code",
   "execution_count": 30,
   "id": "e64a5d93",
   "metadata": {},
   "outputs": [
    {
     "name": "stdout",
     "output_type": "stream",
     "text": [
      "['X', 'Y', 'Z']\n"
     ]
    }
   ],
   "source": [
    "string=['X','Y','Z']\n",
    "print(string)"
   ]
  },
  {
   "cell_type": "code",
   "execution_count": 33,
   "id": "075edb04",
   "metadata": {},
   "outputs": [
    {
     "name": "stdout",
     "output_type": "stream",
     "text": [
      "prime_list의 첫 원소 2\n",
      "prime_list의 마지막 원소 7\n",
      "prime_list의 마지막 원소 7\n"
     ]
    }
   ],
   "source": [
    "#5-2\n",
    "prime_list=[2,3,5,7]\n",
    "print(\"prime_list의 첫 원소\",prime_list[0])\n",
    "print(\"prime_list의 마지막 원소\",prime_list[3])\n",
    "print(\"prime_list의 마지막 원소\",prime_list[-1])"
   ]
  },
  {
   "cell_type": "code",
   "execution_count": 34,
   "id": "bbc9f25e",
   "metadata": {},
   "outputs": [
    {
     "name": "stdout",
     "output_type": "stream",
     "text": [
      "nations의 첫 원소 Korea\n",
      "nations의 마지막 원소 Malaysia\n",
      "nations의 마지막 원소 Malaysia\n",
      "nations의 마지막 원소 Malaysia\n"
     ]
    }
   ],
   "source": [
    "nations=[\"Korea\",\"China\",\"Russia\",\"Malaysia\"]\n",
    "print(\"nations의 첫 원소\",nations[0])\n",
    "print(\"nations의 마지막 원소\",nations[3])\n",
    "print(\"nations의 마지막 원소\",nations[-1])\n",
    "print(\"nations의 마지막 원소\",nations[(len(nations)-1)])"
   ]
  },
  {
   "cell_type": "code",
   "execution_count": 35,
   "id": "ad93a4bb",
   "metadata": {},
   "outputs": [
    {
     "name": "stdout",
     "output_type": "stream",
     "text": [
      "소수 목록: [2, 3, 5, 7]\n",
      "추가 후 소수 목록:  [2, 3, 5, 7, 11]\n"
     ]
    }
   ],
   "source": [
    "#5-3\n",
    "prime_list=[2,3,5,7]\n",
    "print(\"소수 목록:\",prime_list)\n",
    "prime_list.append(11)\n",
    "print(\"추가 후 소수 목록: \",prime_list)"
   ]
  },
  {
   "cell_type": "code",
   "execution_count": 37,
   "id": "414f3409",
   "metadata": {},
   "outputs": [
    {
     "name": "stdout",
     "output_type": "stream",
     "text": [
      "소수 목록: [2, 3, 5, 7, 11]\n",
      "추가 후 소수 목록:  [2, 3, 5, 7]\n"
     ]
    }
   ],
   "source": [
    "prime_list=[2,3,5,7,11]\n",
    "print(\"소수 목록:\",prime_list)\n",
    "prime_list.remove(11)\n",
    "print(\"추가 후 소수 목록: \",prime_list)"
   ]
  },
  {
   "cell_type": "code",
   "execution_count": 39,
   "id": "59912a8c",
   "metadata": {},
   "outputs": [
    {
     "name": "stdout",
     "output_type": "stream",
     "text": [
      "국가 목록: ['Korea', 'China', 'Russia', 'Malaysia']\n",
      "추가 후 국가 목록:  ['Korea', 'China', 'Russia', 'Malaysia', 'Nepal']\n"
     ]
    }
   ],
   "source": [
    "nations=[\"Korea\",\"China\",\"Russia\",\"Malaysia\"]\n",
    "print(\"국가 목록:\",nations)\n",
    "nations.append(\"Nepal\")\n",
    "print(\"추가 후 국가 목록: \",nations)\n"
   ]
  },
  {
   "cell_type": "code",
   "execution_count": 41,
   "id": "857487b3",
   "metadata": {},
   "outputs": [
    {
     "name": "stdout",
     "output_type": "stream",
     "text": [
      "국가 목록: ['Korea', 'China', 'Russia', 'Malaysia']\n",
      "Japan 는(은) 국가 목록에 없습니다.\n",
      "Russia 는(은) 국가 목록에 있습니다.\n"
     ]
    }
   ],
   "source": [
    "nations=[\"Korea\",\"China\",\"Russia\",\"Malaysia\"]\n",
    "print(\"국가 목록:\",nations)\n",
    "jap=nations.count(\"Japan\")\n",
    "rus=nations.count(\"Russia\")\n",
    "if(jap>0):print(\"Japan 는(은) 국가 목록에 있습니다.\")\n",
    "else: print(\"Japan 는(은) 국가 목록에 없습니다.\")\n",
    "if(rus>0):print(\"Russia 는(은) 국가 목록에 있습니다.\")\n",
    "else: print(\"Russia 는(은) 국가 목록에 없습니다.\")"
   ]
  },
  {
   "cell_type": "code",
   "execution_count": 1,
   "id": "65c44b51",
   "metadata": {},
   "outputs": [
    {
     "name": "stdout",
     "output_type": "stream",
     "text": [
      "1에서 10까지의 소수 [2, 3, 5, 7]\n",
      "최솟값 : 2\n",
      "최댓값 : 7\n",
      "합계 : 17\n",
      "평균 : 4.25\n"
     ]
    }
   ],
   "source": [
    "#5-4\n",
    "prime_list=[2,3,5,7]\n",
    "print(\"1에서 10까지의 소수\",prime_list)\n",
    "print(\"최솟값 :\",min(prime_list))\n",
    "print(\"최댓값 :\",max(prime_list))\n",
    "print(\"합계 :\",sum(prime_list))\n",
    "print(\"평균 :\",sum(prime_list)/len(prime_list))"
   ]
  },
  {
   "cell_type": "code",
   "execution_count": 44,
   "id": "78181e28",
   "metadata": {},
   "outputs": [
    {
     "name": "stdout",
     "output_type": "stream",
     "text": [
      "사전에 가장 먼저 나오는 나라 China\n",
      "사전에 가장 뒤에 나오는 나라 Russia\n"
     ]
    }
   ],
   "source": [
    "nations=[\"Korea\",\"China\",\"Russia\",\"Malaysia\"]\n",
    "nations.sort()\n",
    "print(\"사전에 가장 먼저 나오는 나라\",nations[0])\n",
    "print(\"사전에 가장 뒤에 나오는 나라\",nations[-1])"
   ]
  },
  {
   "cell_type": "code",
   "execution_count": 45,
   "id": "583499d3",
   "metadata": {},
   "outputs": [
    {
     "data": {
      "text/plain": [
       "[1, 2, 3, [10, 20, 30]]"
      ]
     },
     "execution_count": 45,
     "metadata": {},
     "output_type": "execute_result"
    }
   ],
   "source": [
    "#5-5\n",
    "a=[1,2,3]\n",
    "b=[10,20,30]\n",
    "a.append(b)\n",
    "a"
   ]
  },
  {
   "cell_type": "code",
   "execution_count": 46,
   "id": "644010e1",
   "metadata": {},
   "outputs": [
    {
     "data": {
      "text/plain": [
       "[1, 2, 3, 10, 20, 30]"
      ]
     },
     "execution_count": 46,
     "metadata": {},
     "output_type": "execute_result"
    }
   ],
   "source": [
    "a=[1,2,3]\n",
    "b=[10,20,30]\n",
    "a.extend(b)\n",
    "a"
   ]
  },
  {
   "cell_type": "code",
   "execution_count": 51,
   "id": "b1b47ed5",
   "metadata": {},
   "outputs": [
    {
     "name": "stdout",
     "output_type": "stream",
     "text": [
      "nlist= [1, 2, 3, 4, 5, 6, 7, 8, 9, 10]\n",
      "nlist= [0, 1, 2, 3, 4, 5, 6, 7, 8, 9, 10]\n",
      "nlist= [10, 9, 8, 7, 6, 5, 4, 3, 2, 1, 0]\n",
      "마지막 원소 0\n",
      "nlist= [10, 9, 8, 7, 6, 5, 4, 3, 2, 1]\n"
     ]
    }
   ],
   "source": [
    "nlist=list(range(1,11))\n",
    "print(\"nlist=\",nlist)\n",
    "nlist.insert(0,0)\n",
    "print(\"nlist=\",nlist)\n",
    "nlist.reverse()\n",
    "print(\"nlist=\",nlist)\n",
    "print(\"마지막 원소\",nlist.pop())\n",
    "print(\"nlist=\",nlist)\n"
   ]
  },
  {
   "cell_type": "code",
   "execution_count": 52,
   "id": "f29e525f",
   "metadata": {},
   "outputs": [
    {
     "name": "stdout",
     "output_type": "stream",
     "text": [
      "반복할 정수를 입력하시오 :3\n",
      "[1, 2, 3, 1, 2, 3, 1, 2, 3]\n"
     ]
    }
   ],
   "source": [
    "#5-6\n",
    "n=int(input(\"반복할 정수를 입력하시오 :\"))\n",
    "nlist=[1,2,3]\n",
    "print(nlist*n)"
   ]
  },
  {
   "cell_type": "code",
   "execution_count": 58,
   "id": "cbac047a",
   "metadata": {},
   "outputs": [
    {
     "name": "stdout",
     "output_type": "stream",
     "text": [
      "[0, 1, 2, 3, 4, 5, 6, 7, 8, 9, 10, 11, 12, 13, 14]\n",
      "[0, 1, 2, 3, 4]\n",
      "[5, 6, 7, 8, 9, 10]\n",
      "[11, 12, 13, 14]\n",
      "[2, 4, 6, 8, 10]\n",
      "[10, 9, 8, 7, 6]\n",
      "[10, 8, 6, 4, 2]\n"
     ]
    }
   ],
   "source": [
    "#5-7\n",
    "n_list=list(range(15))\n",
    "print(n_list)\n",
    "s_list1=n_list[0:5]\n",
    "print(s_list1)\n",
    "s_list2=n_list[5:11]\n",
    "print(s_list2)\n",
    "s_list3=n_list[11:15]\n",
    "print(s_list3)\n",
    "s_list4=n_list[2:12:2]\n",
    "print(s_list4)\n",
    "s_list5=n_list[10:5:-1]\n",
    "print(s_list5)\n",
    "s_list6=n_list[10:1:-2]\n",
    "print(s_list6)"
   ]
  },
  {
   "cell_type": "code",
   "execution_count": 60,
   "id": "a5f02e37",
   "metadata": {},
   "outputs": [
    {
     "name": "stdout",
     "output_type": "stream",
     "text": [
      "Seoul\n",
      "Beijing\n",
      "Washington DC\n"
     ]
    }
   ],
   "source": [
    "#6-1\n",
    "capital_dic={'Korea':'Seoul','China':'Beijing','USA':'Washington DC'}\n",
    "print(capital_dic['Korea'])\n",
    "print(capital_dic['China'])\n",
    "print(capital_dic['USA'])"
   ]
  },
  {
   "cell_type": "code",
   "execution_count": 63,
   "id": "143881b5",
   "metadata": {},
   "outputs": [
    {
     "name": "stdout",
     "output_type": "stream",
     "text": [
      "{'이름': '홍길동', '나이': 26, '몸무게': 82, '특기': '분신술'}\n",
      "{'이름': '홍길동', '나이': 26, '몸무게': 82, '특기': '분신술', '아버지': '홍판서'}\n",
      "{'이름': '홍길동', '몸무게': 82, '특기': '분신술', '아버지': '홍판서'}\n"
     ]
    }
   ],
   "source": [
    "#6-2\n",
    "person_dic={'이름':'홍길동','나이':26,'몸무게':82,'특기':'분신술'}\n",
    "print(person_dic)\n",
    "person_dic['아버지']='홍판서'\n",
    "print(person_dic)\n",
    "del person_dic['나이']\n",
    "print(person_dic)"
   ]
  },
  {
   "cell_type": "code",
   "execution_count": 1,
   "id": "314e0e3b",
   "metadata": {},
   "outputs": [
    {
     "name": "stdout",
     "output_type": "stream",
     "text": [
      "Seoul\n",
      "Beijing\n",
      "None\n",
      "None\n"
     ]
    }
   ],
   "source": [
    "#6-3\n",
    "capital_dic={'Korea':'Seoul','China':'Beijing','USA':'Washington DC'}\n",
    "print(capital_dic.get('Korea'))\n",
    "print(capital_dic.get('China'))\n",
    "print(capital_dic.get('Indonesia'))\n",
    "print(capital_dic.get('Beijing'))"
   ]
  },
  {
   "cell_type": "code",
   "execution_count": 7,
   "id": "b36786dd",
   "metadata": {},
   "outputs": [
    {
     "name": "stdout",
     "output_type": "stream",
     "text": [
      "apple\n",
      "melon\n",
      "banana\n",
      "orange\n",
      "6000\n",
      "3000\n",
      "5000\n",
      "7000\n"
     ]
    }
   ],
   "source": [
    "#6-4\n",
    "fruits_dic={'apple':'6000','melon':'3000','banana':'5000','orange':'7000'}\n",
    "for key in fruits_dic:\n",
    "    print(format(key))\n",
    "for key in fruits_dic:\n",
    "    print(format(fruits_dic[key]))\n",
    "fruits_dic.pop('apple')\n",
    "fruits_dic.clear()"
   ]
  },
  {
   "cell_type": "code",
   "execution_count": 24,
   "id": "42ffaadb",
   "metadata": {},
   "outputs": [
    {
     "name": "stdout",
     "output_type": "stream",
     "text": [
      "['apple', 'melon', 'banana', 'orange']\n",
      "['6000', '3000', '5000', '4000']\n",
      "fruits_dic 딕셔너리의 항목의 개수:  4\n",
      "apple is in fruits_dic.\n",
      "mango is not in fruits_dic.\n"
     ]
    }
   ],
   "source": [
    "#6-5\n",
    "fruits_dic={'apple':'6000','melon':'3000','banana':'5000','orange':'4000'}\n",
    "print(list(fruits_dic.keys()))\n",
    "print(list(fruits_dic.values()))\n",
    "print(\"fruits_dic 딕셔너리의 항목의 개수: \",len(fruits_dic))\n",
    "if 'apple' in  fruits_dic:\n",
    "    print(\"apple is in fruits_dic.\")\n",
    "else:print(\"apple is not in fruits_dic.\")\n",
    "\n",
    "if 'mango' in  fruits_dic:\n",
    "    print(\"mango is in fruits_dic.\")\n",
    "else:print(\"mango is not in fruits_dic.\")"
   ]
  },
  {
   "cell_type": "code",
   "execution_count": 25,
   "id": "0e6812c0",
   "metadata": {},
   "outputs": [
    {
     "name": "stdout",
     "output_type": "stream",
     "text": [
      "1919년3월1일은 삼일절입니다\n"
     ]
    }
   ],
   "source": [
    "#6-6\n",
    "the_day=(1919,3,1)\n",
    "print(\"%d년%d월%d일은 삼일절입니다\"%(the_day[0],the_day[1],the_day[2]))"
   ]
  },
  {
   "cell_type": "code",
   "execution_count": 26,
   "id": "9de00e9d",
   "metadata": {},
   "outputs": [
    {
     "name": "stdout",
     "output_type": "stream",
     "text": [
      "a=30\n",
      "b=20\n",
      "c=10\n"
     ]
    }
   ],
   "source": [
    "num=(10,20,30)\n",
    "a=num[2]\n",
    "b=num[1]\n",
    "c=num[0]\n",
    "print(\"a=%d\\nb=%d\\nc=%d\"%(a,b,c))\n"
   ]
  },
  {
   "cell_type": "code",
   "execution_count": 1,
   "id": "871abb31",
   "metadata": {},
   "outputs": [
    {
     "ename": "TypeError",
     "evalue": "'tuple' object does not support item assignment",
     "output_type": "error",
     "traceback": [
      "\u001b[1;31m---------------------------------------------------------------------------\u001b[0m",
      "\u001b[1;31mTypeError\u001b[0m                                 Traceback (most recent call last)",
      "Input \u001b[1;32mIn [1]\u001b[0m, in \u001b[0;36m<cell line: 3>\u001b[1;34m()\u001b[0m\n\u001b[0;32m      1\u001b[0m \u001b[38;5;66;03m#6-7 에러케이스\u001b[39;00m\n\u001b[0;32m      2\u001b[0m person\u001b[38;5;241m=\u001b[39m(\u001b[38;5;124m'\u001b[39m\u001b[38;5;124m홍길동\u001b[39m\u001b[38;5;124m'\u001b[39m,\u001b[38;5;241m2019001\u001b[39m,\u001b[38;5;241m179\u001b[39m)\n\u001b[1;32m----> 3\u001b[0m person[\u001b[38;5;241m1\u001b[39m]\u001b[38;5;241m=\u001b[39m\u001b[38;5;241m2019003\u001b[39m\n",
      "\u001b[1;31mTypeError\u001b[0m: 'tuple' object does not support item assignment"
     ]
    }
   ],
   "source": [
    "#6-7 에러케이스\n",
    "person=('홍길동',2019001,179)\n",
    "person[1]=2019003\n",
    "#튜플이라 에러가 난다."
   ]
  },
  {
   "cell_type": "code",
   "execution_count": 28,
   "id": "4b6439d7",
   "metadata": {},
   "outputs": [],
   "source": [
    "person=('홍길동',2019001,179)\n",
    "person=list(person)\n",
    "person[1]=202003\n",
    "person=tuple(person)"
   ]
  },
  {
   "cell_type": "code",
   "execution_count": 4,
   "id": "13c0c342",
   "metadata": {},
   "outputs": [
    {
     "name": "stdout",
     "output_type": "stream",
     "text": [
      "10제곱 =100 20제곱 =400\n"
     ]
    }
   ],
   "source": [
    "#6-8\n",
    "def square(x,y):\n",
    "    return x**2,y**2\n",
    "x=10\n",
    "y=20\n",
    "x_sq,y_sq=square(x,y)\n",
    "print(\"%d제곱 =%d %d제곱 =%d\"%(x,x_sq,y,y_sq))"
   ]
  },
  {
   "cell_type": "code",
   "execution_count": 5,
   "id": "b03ff590",
   "metadata": {},
   "outputs": [
    {
     "data": {
      "text/plain": [
       "(10, 20, 30, 40, 50, 60)"
      ]
     },
     "execution_count": 5,
     "metadata": {},
     "output_type": "execute_result"
    }
   ],
   "source": [
    "(10,20,30)+(40,50,60)"
   ]
  },
  {
   "cell_type": "code",
   "execution_count": 6,
   "id": "b91b30fe",
   "metadata": {},
   "outputs": [
    {
     "name": "stdout",
     "output_type": "stream",
     "text": [
      "HelloHelloHello\n",
      "('Hello', 'Hello', 'Hello')\n"
     ]
    }
   ],
   "source": [
    "print('Hello'*3)\n",
    "print(('Hello',)*3)"
   ]
  },
  {
   "cell_type": "code",
   "execution_count": 8,
   "id": "aabe4b7f",
   "metadata": {},
   "outputs": [
    {
     "name": "stdout",
     "output_type": "stream",
     "text": [
      "{'banana', 'apple', 'mango'}\n"
     ]
    }
   ],
   "source": [
    "#6-9\n",
    "lst=['apple','mango','banana']\n",
    "s1=set(lst)\n",
    "print(s1)"
   ]
  },
  {
   "cell_type": "code",
   "execution_count": 9,
   "id": "a54b7133",
   "metadata": {},
   "outputs": [
    {
     "name": "stdout",
     "output_type": "stream",
     "text": [
      "{70, 40, 10, 50, 20, 60, 30}\n",
      "{40, 30}\n",
      "{10, 20}\n",
      "{50, 20, 70, 10, 60}\n",
      "False\n",
      "False\n",
      "False\n"
     ]
    }
   ],
   "source": [
    "#6-10\n",
    "s1={10,20,30,40}\n",
    "s2={30,40,50,60,70}\n",
    "print(s1|s2)\n",
    "print(s1&s2)\n",
    "print(s1-s2)\n",
    "print(s1^s2)\n",
    "print(s1.issubset(s2))\n",
    "print(s1.issuperset(s2))\n",
    "print(s1.isdisjoint(s2))"
   ]
  },
  {
   "cell_type": "code",
   "execution_count": 8,
   "id": "2fe43520",
   "metadata": {},
   "outputs": [
    {
     "name": "stdout",
     "output_type": "stream",
     "text": [
      "3 * 2 = 6\n",
      "3 * 3 = 9\n",
      "3 * 4 = 12\n",
      "3 * 5 = 15\n",
      "3 * 6 = 18\n",
      "5 * 2 = 10\n",
      "5 * 3 = 15\n",
      "5 * 4 = 20\n",
      "5 * 5 = 25\n",
      "5 * 6 = 30\n",
      "7 * 2 = 14\n",
      "7 * 3 = 21\n",
      "7 * 4 = 28\n",
      "7 * 5 = 35\n",
      "7 * 6 = 42\n"
     ]
    }
   ],
   "source": [
    "#연습 4-1번\n",
    "list1=[3,5,7]\n",
    "list2=[2,3,4,5,6]\n",
    "\n",
    "for a in list1:\n",
    "    for b in list2:\n",
    "        print(\"%d * %d = %d\"%(a,b,a*b))"
   ]
  },
  {
   "cell_type": "code",
   "execution_count": 37,
   "id": "5db226d5",
   "metadata": {},
   "outputs": [
    {
     "name": "stdout",
     "output_type": "stream",
     "text": [
      "리스트 원소들: [10, 20, 30, 50, 60]\n",
      "리스트 원소들의 합 170\n"
     ]
    }
   ],
   "source": [
    "#연습 4-3번\n",
    "n_list=[10,20,30,50,60]\n",
    "sum=0\n",
    "for a in n_list:\n",
    "    sum+=a\n",
    "print(\"리스트 원소들:\",n_list)\n",
    "print(\"리스트 원소들의 합\",sum)"
   ]
  },
  {
   "cell_type": "code",
   "execution_count": 2,
   "id": "bd3a201c",
   "metadata": {},
   "outputs": [
    {
     "name": "stdout",
     "output_type": "stream",
     "text": [
      "숫자 5개를 입력하세요2 3 4 5 6\n",
      "최솟값 : 2\n",
      "최댓값 : 6\n",
      "합계 : 20\n",
      "평균 : 4.0\n"
     ]
    }
   ],
   "source": [
    "#연습 4-5번\n",
    "a,b,c,d,e=map(int,input(\"숫자 5개를 입력하세요\").split())\n",
    "list2=(a,b,c,d,e)\n",
    "print(\"최솟값 :\",min(list2))\n",
    "print(\"최댓값 :\",max(list2))\n",
    "print(\"합계 :\",sum(list2))\n",
    "print(\"평균 :\",sum(list2)/len(list2))\n"
   ]
  },
  {
   "cell_type": "code",
   "execution_count": 6,
   "id": "c9567989",
   "metadata": {},
   "outputs": [
    {
     "name": "stdout",
     "output_type": "stream",
     "text": [
      "['dog', 'cat', 'tiger', 'lion']\n",
      "['cat', 'tiger', 'lion', 'dog']\n",
      "I love cat\n",
      "I love tiger\n",
      "I love lion\n",
      "I love dog\n"
     ]
    }
   ],
   "source": [
    "#연습 4-7번\n",
    "animal=['dog','cat','tiger','lion']\n",
    "print(animal)\n",
    "animal.remove('dog')\n",
    "animal.append('dog')\n",
    "print(animal)\n",
    "for a in animal:\n",
    "    print(\"I love\",a)"
   ]
  },
  {
   "cell_type": "code",
   "execution_count": 40,
   "id": "ba47be63",
   "metadata": {},
   "outputs": [
    {
     "name": "stdout",
     "output_type": "stream",
     "text": [
      "a2b3c6a2c3f1\n"
     ]
    }
   ],
   "source": [
    "#연습 4-9번\n",
    "src = 'aabbbccccccaacccf'\n",
    "Ochr=''\n",
    "cnt=0\n",
    "if src !='':\n",
    "    Bchr=src[0]\n",
    "    cnt=1\n",
    "for i in range(1,len(src)):\n",
    "    if src[i] != Bchr:\n",
    "        Ochr += Bchr+str(cnt)\n",
    "        cnt=1\n",
    "        Bchr=src[i]\n",
    "    else:\n",
    "        cnt+=1\n",
    "if cnt > 0:\n",
    "    Ochr += Bchr+str(cnt)\n",
    "print(Ochr)"
   ]
  },
  {
   "cell_type": "code",
   "execution_count": 45,
   "id": "d1ec3fa6",
   "metadata": {},
   "outputs": [
    {
     "name": "stdout",
     "output_type": "stream",
     "text": [
      "[5, 6, 3, 9, 2, 12, 3, 8, 7]\n",
      "[5, 6, 3, 9, 2, 7, 3, 8, 12]\n"
     ]
    }
   ],
   "source": [
    "#연습 4.2-1번\n",
    "lst=[5,6,3,9,2,12,3,8,7]\n",
    "print(lst)\n",
    "lst[5],lst[8]=lst[8],lst[5]\n",
    "print(lst)"
   ]
  },
  {
   "cell_type": "code",
   "execution_count": 7,
   "id": "e21ec043",
   "metadata": {},
   "outputs": [
    {
     "name": "stdout",
     "output_type": "stream",
     "text": [
      "단어를 입력하세요: abcba\n",
      "회문입니다\n"
     ]
    }
   ],
   "source": [
    "#연습 4.2-3번\n",
    "word = input('단어를 입력하세요: ')\n",
    "is_palindrome = True                \n",
    "for i in range(len(word) // 2):      \n",
    "    if word[i] != word[-1 - i]:      \n",
    "        is_palindrome = False        \n",
    "        break\n",
    " \n",
    "if(is_palindrome):print(\"회문입니다\")\n",
    "else:print(\"회문이 아닙니다\")\n"
   ]
  },
  {
   "cell_type": "code",
   "execution_count": 19,
   "id": "edd2c49f",
   "metadata": {},
   "outputs": [
    {
     "name": "stdout",
     "output_type": "stream",
     "text": [
      "두 정수를 입력하세요2 1\n",
      "(2 1) 요소는 없으나  0 번째에 (1 2) 요소가 있습니다\n"
     ]
    }
   ],
   "source": [
    "#연습 4.2-5번\n",
    "mylist=[(1,2),(3,4),(4,5)]\n",
    "a,b=map(int,input(\"두 정수를 입력하세요\").split())\n",
    "check=0\n",
    "for i in range(0,3):\n",
    "    if(mylist[i]==(a,b)):\n",
    "        print(i,\"번째에 (%d %d) 요소가 있습니다\"%(a,b))\n",
    "        check=1\n",
    "    if(mylist[i]==(b,a)):\n",
    "        print(\"(%d %d) 요소는 없으나 \"%(a,b),i,\"번째에 (%d %d) 요소가 있습니다\"%(b,a))\n",
    "        check=1\n",
    "if(check==0):\n",
    "    print(\"이 요소는 없습니다\")"
   ]
  },
  {
   "cell_type": "code",
   "execution_count": 4,
   "id": "5b732f3e",
   "metadata": {},
   "outputs": [
    {
     "name": "stdout",
     "output_type": "stream",
     "text": [
      "주어진 튜플\n",
      "(1, 2, 5, 4, 3, 1, 1, 1, 3, 2, 1, 5, 7, 7)\n",
      "중복 제거 튜플\n",
      "(1, 2, 3, 4, 5, 7)\n"
     ]
    }
   ],
   "source": [
    "#연습 4.2-7번\n",
    "tp=(1,2,5,4,3,1,1,1,3,2,1,5,7,7)\n",
    "print(\"주어진 튜플\")\n",
    "print(tp)\n",
    "tp2=set(tp)\n",
    "print(\"중복 제거 튜플\")\n",
    "print(tuple(tp2))"
   ]
  },
  {
   "cell_type": "code",
   "execution_count": 17,
   "id": "4a15eda5",
   "metadata": {},
   "outputs": [
    {
     "name": "stdout",
     "output_type": "stream",
     "text": [
      "마을 A와 B에 보낼 투표 용지의 개수는 각각 971 장 1698 장 입니다\n",
      "마을 A와 B의 고령화 정도는  0.16461916461916462 와 0.0033085194375516956 입니다\n"
     ]
    }
   ],
   "source": [
    "#연습 4.2-9번\n",
    "population_A=(100,150,230,120,180,100,140,95,81,21,4)\n",
    "population_B=(300,420,530,420,400,300,40,5,1,1,1)\n",
    "print(\"마을 A와 B에 보낼 투표 용지의 개수는 각각\",sum(population_A[2:]),\"장\",sum(population_B[2:]),\"장 입니다\")\n",
    "print(\"마을 A와 B의 고령화 정도는 \",sum(population_A[7:])/sum(population_A),\"와\",sum(population_B[7:])/sum(population_B),\"입니다\")\n"
   ]
  },
  {
   "cell_type": "code",
   "execution_count": null,
   "id": "3ee1c181",
   "metadata": {},
   "outputs": [],
   "source": []
  }
 ],
 "metadata": {
  "kernelspec": {
   "display_name": "Python 3 (ipykernel)",
   "language": "python",
   "name": "python3"
  },
  "language_info": {
   "codemirror_mode": {
    "name": "ipython",
    "version": 3
   },
   "file_extension": ".py",
   "mimetype": "text/x-python",
   "name": "python",
   "nbconvert_exporter": "python",
   "pygments_lexer": "ipython3",
   "version": "3.9.12"
  }
 },
 "nbformat": 4,
 "nbformat_minor": 5
}
