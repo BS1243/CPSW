{
 "cells": [
  {
   "cell_type": "code",
   "execution_count": 2,
   "id": "5f27c3f2",
   "metadata": {},
   "outputs": [
    {
     "ename": "SyntaxError",
     "evalue": "invalid syntax (1826320739.py, line 1)",
     "output_type": "error",
     "traceback": [
      "\u001b[1;36m  Input \u001b[1;32mIn [2]\u001b[1;36m\u001b[0m\n\u001b[1;33m    star():\u001b[0m\n\u001b[1;37m           ^\u001b[0m\n\u001b[1;31mSyntaxError\u001b[0m\u001b[1;31m:\u001b[0m invalid syntax\n"
     ]
    }
   ],
   "source": [
    "#4-1,에러케이스\n",
    "star():\n",
    "    print('*'*10)\n",
    "star()\n",
    "star()\n",
    "star()"
   ]
  },
  {
   "cell_type": "code",
   "execution_count": 5,
   "id": "ff757a7b",
   "metadata": {},
   "outputs": [
    {
     "name": "stdout",
     "output_type": "stream",
     "text": [
      "**********\n",
      "**********\n",
      "**********\n",
      "**********\n",
      "**********\n",
      "**********\n",
      "**********\n",
      "**********\n",
      "**********\n",
      "**********\n"
     ]
    }
   ],
   "source": [
    "#4-2\n",
    "def star():\n",
    "    for i in range(5):\n",
    "        print('*'*10)\n",
    "star()\n",
    "star()"
   ]
  },
  {
   "cell_type": "code",
   "execution_count": 6,
   "id": "af21332e",
   "metadata": {},
   "outputs": [
    {
     "name": "stdout",
     "output_type": "stream",
     "text": [
      "###############\n",
      "***************\n",
      "+++++++++++++++\n",
      "+++++++++++++++\n",
      "***************\n",
      "###############\n"
     ]
    }
   ],
   "source": [
    "#4-3\n",
    "def star():\n",
    "    print('*'*15)\n",
    "def plus():\n",
    "    print('+'*15)\n",
    "def hashmark():\n",
    "    print('#'*15)\n",
    "hashmark()\n",
    "star()\n",
    "plus()\n",
    "plus()\n",
    "star()\n",
    "hashmark()"
   ]
  },
  {
   "cell_type": "code",
   "execution_count": 8,
   "id": "1e9ae4f1",
   "metadata": {},
   "outputs": [
    {
     "name": "stdout",
     "output_type": "stream",
     "text": [
      "***************\n",
      "***************\n",
      "***************\n",
      "***************\n",
      "***************\n",
      "***************\n",
      "***************\n",
      "***************\n",
      "***************\n",
      "***************\n"
     ]
    }
   ],
   "source": [
    "#4-4\n",
    "def star(n):\n",
    "    for _ in range(n):\n",
    "        print('*'*15)\n",
    "star(10)"
   ]
  },
  {
   "cell_type": "code",
   "execution_count": 9,
   "id": "7d6d7465",
   "metadata": {},
   "outputs": [
    {
     "name": "stdout",
     "output_type": "stream",
     "text": [
      "###############\n",
      "###############\n",
      "###############\n",
      "###############\n",
      "###############\n",
      "###############\n",
      "###############\n",
      "###############\n",
      "###############\n",
      "###############\n"
     ]
    }
   ],
   "source": [
    "def print_hash(n):\n",
    "    for _ in range(n):\n",
    "        print('#'*15)\n",
    "print_hash(10)"
   ]
  },
  {
   "cell_type": "code",
   "execution_count": 11,
   "id": "67bc1382",
   "metadata": {},
   "outputs": [
    {
     "name": "stdout",
     "output_type": "stream",
     "text": [
      "###############\n",
      "###############\n",
      "###############\n",
      "###############\n",
      "###############\n",
      "###############\n",
      "###############\n",
      "###############\n",
      "###############\n",
      "###############\n"
     ]
    }
   ],
   "source": [
    "def print_hash(n):\n",
    "    for i in range(n):\n",
    "        print('#'*15)\n",
    "print_hash(10)"
   ]
  },
  {
   "cell_type": "code",
   "execution_count": 12,
   "id": "4a005e37",
   "metadata": {},
   "outputs": [
    {
     "name": "stdout",
     "output_type": "stream",
     "text": [
      "0 ###############\n",
      "1 ###############\n",
      "2 ###############\n",
      "3 ###############\n",
      "4 ###############\n",
      "5 ###############\n"
     ]
    }
   ],
   "source": [
    "def print_hash(n):\n",
    "    for i in range(n):\n",
    "        print(i,'#'*15)\n",
    "print_hash(6)"
   ]
  },
  {
   "cell_type": "code",
   "execution_count": 16,
   "id": "5dfc8ea6",
   "metadata": {},
   "outputs": [
    {
     "name": "stdout",
     "output_type": "stream",
     "text": [
      "10\n",
      "20\n",
      "10과 20의 차는 -10입니다\n"
     ]
    }
   ],
   "source": [
    "#4-5\n",
    "a=int(input())\n",
    "b=int(input())\n",
    "def printsum(x,y):\n",
    "    print(\"%d과 %d의 차는 %d입니다\"%(x,y,x-y))\n",
    "printsum(a,b)"
   ]
  },
  {
   "cell_type": "code",
   "execution_count": 17,
   "id": "7ed62c68",
   "metadata": {},
   "outputs": [
    {
     "name": "stdout",
     "output_type": "stream",
     "text": [
      "10\n",
      "20\n",
      "10과 20의 곱은 200입니다\n"
     ]
    }
   ],
   "source": [
    "a=int(input())\n",
    "b=int(input())\n",
    "def printmult(x,y):\n",
    "    print(\"%d과 %d의 곱은 %d입니다\"%(x,y,x*y))\n",
    "printmult(a,b)"
   ]
  },
  {
   "cell_type": "code",
   "execution_count": 18,
   "id": "c41d9b75",
   "metadata": {},
   "outputs": [
    {
     "name": "stdout",
     "output_type": "stream",
     "text": [
      "해는 2.0 또는 -4.0\n",
      "해는 4.0 또는 -1.0\n"
     ]
    }
   ],
   "source": [
    "#4-6\n",
    "def print_root(a,b,c):\n",
    "    r1=(-b+(b**2-4*a*c)**0.5)/(2*a)\n",
    "    r2=(-b-(b**2-4*a*c)**0.5)/(2*a)\n",
    "    print('해는',r1,'또는',r2)\n",
    "print_root(1,4,-21)\n",
    "print_root(1,-6,8)"
   ]
  },
  {
   "cell_type": "code",
   "execution_count": 20,
   "id": "4235d9ff",
   "metadata": {},
   "outputs": [
    {
     "name": "stdout",
     "output_type": "stream",
     "text": [
      "밑변 10,높이 20인 삼각형의 면적은 : 100\n"
     ]
    }
   ],
   "source": [
    "def print_area(width,height):\n",
    "    print(\"밑변 %d,높이 %d인 삼각형의 면적은 : %d\"%(width,height,width*height*0.5))\n",
    "    \n",
    "print_area(10,20)"
   ]
  },
  {
   "cell_type": "code",
   "execution_count": 4,
   "id": "41f34eb5",
   "metadata": {},
   "outputs": [
    {
     "name": "stdout",
     "output_type": "stream",
     "text": [
      "숫자를 입력10\n",
      "반지름 10인 원의 면적은 314,원의 둘레는 62\n"
     ]
    }
   ],
   "source": [
    "#4-7\n",
    "def circle_area_circum(radius):\n",
    "    print(\"반지름 %d인 원의 면적은 %d,원의 둘레는 %d\"%(radius,radius**2*3.14,radius*2*3.14))\n",
    "num=int(input(\"숫자를 입력\"))\n",
    "circle_area_circum(num)"
   ]
  },
  {
   "cell_type": "code",
   "execution_count": 16,
   "id": "5c2125f7",
   "metadata": {
    "scrolled": true
   },
   "outputs": [
    {
     "name": "stdout",
     "output_type": "stream",
     "text": [
      "3 6 9 12\n",
      "2 4 6 8 10\n"
     ]
    }
   ],
   "source": [
    "#4-8\n",
    "def multipies(a,b):\n",
    "    r=()\n",
    "    for i in range(1,b+1):\n",
    "        r=r+(i*a,)\n",
    "    return r\n",
    "r1,r2,r3,r4=multipies(3,4)\n",
    "print(r1,r2,r3,r4)\n",
    "r1,r2,r3,r4,r5=multipies(2,5)\n",
    "print(r1,r2,r3,r4,r5)"
   ]
  },
  {
   "cell_type": "code",
   "execution_count": 17,
   "id": "354fffc9",
   "metadata": {},
   "outputs": [
    {
     "name": "stdout",
     "output_type": "stream",
     "text": [
      "Dr. Gildong Hong\n",
      "Gildong Hong Dr.\n"
     ]
    }
   ],
   "source": [
    "#4-9\n",
    "def printname(ho,fn,ln):\n",
    "    print(ho,fn,ln)\n",
    "printname(fn='Gildong',ln='Hong',ho='Dr.')\n",
    "printname('Gildong','Hong','Dr.')"
   ]
  },
  {
   "cell_type": "code",
   "execution_count": 21,
   "id": "c810fb4e",
   "metadata": {},
   "outputs": [
    {
     "name": "stdout",
     "output_type": "stream",
     "text": [
      "(10, 20, 30)\n",
      "60\n",
      "(10, 20, 30, 40, 50)\n",
      "150\n"
     ]
    }
   ],
   "source": [
    "#4-10\n",
    "def sum_nums(*numbers):\n",
    "    print('3개의 인자',numbers)\n",
    "    result=0;\n",
    "    for n in numbers:\n",
    "        result+=n\n",
    "    return result\n",
    "print(sum_nums(10,20,30))\n",
    "print(sum_nums(10,20,30,40,50))"
   ]
  },
  {
   "cell_type": "code",
   "execution_count": 4,
   "id": "6fc65311",
   "metadata": {},
   "outputs": [
    {
     "name": "stdout",
     "output_type": "stream",
     "text": [
      "3개의 인자 (20, 40, 50, 10)\n",
      "10\n"
     ]
    }
   ],
   "source": [
    "\n",
    "def min_nums(*numbers):\n",
    "    print('3개의 인자',numbers)\n",
    "    result=1000;\n",
    "    for n in numbers:\n",
    "        if(result>n):\n",
    "            result=n\n",
    "    return result\n",
    "print(min_nums(20,40,50,10))\n"
   ]
  },
  {
   "cell_type": "code",
   "execution_count": 4,
   "id": "12d3f787",
   "metadata": {},
   "outputs": [
    {
     "name": "stdout",
     "output_type": "stream",
     "text": [
      "당신의 이름을 입력해주세요김철수\n",
      "나이를 입력해주세요21\n",
      "직업을 입력해주세요학생\n",
      "사는 곳을 입력해주세요창원시\n",
      "당신의 이름은 김철수 나이는 21살 직업은학생 사는곳은 창원시입니다\n"
     ]
    }
   ],
   "source": [
    "#4-11\n",
    "name=input('당신의 이름을 입력해주세요')\n",
    "age=input('나이를 입력해주세요')\n",
    "work=input('직업을 입력해주세요')\n",
    "place=input('사는 곳을 입력해주세요')\n",
    "print('당신의 이름은 {} 나이는 {}살 직업은{} 사는곳은 {}입니다'.format(name,age,work,place))"
   ]
  },
  {
   "cell_type": "code",
   "execution_count": 27,
   "id": "54686bf1",
   "metadata": {},
   "outputs": [
    {
     "data": {
      "text/plain": [
       "'My favorite thing is cartoons.'"
      ]
     },
     "execution_count": 27,
     "metadata": {},
     "output_type": "execute_result"
    }
   ],
   "source": [
    "#4-12\n",
    "'_'.join('ABCD')\n",
    "s=\"My favorite thing is monsters.\"\n",
    "s.replace('monsters','cartoons')"
   ]
  },
  {
   "cell_type": "code",
   "execution_count": 6,
   "id": "0be5fe00",
   "metadata": {},
   "outputs": [
    {
     "name": "stdout",
     "output_type": "stream",
     "text": [
      "x1 좌표를 입력하시오0\n",
      "y1 좌표를 입력하시오0\n",
      "x2 좌표를 입력하시오3\n",
      "y2 좌표를 입력하시오4\n",
      "직각삼각형의 면적은  6.0\n"
     ]
    }
   ],
   "source": [
    "#연습문제 2.\n",
    "x1=int(input('x1 좌표를 입력하시오'))\n",
    "y1=int(input('y1 좌표를 입력하시오'))\n",
    "x2=int(input('x2 좌표를 입력하시오'))\n",
    "y2=int(input('y2 좌표를 입력하시오'))\n",
    "def area(x1,y1,x2,y2):\n",
    "    return ((x2-x1)*(y2-y1)*0.5)\n",
    "print(\"직각삼각형의 면적은 \",area(x1,y1,x2,y2))"
   ]
  },
  {
   "cell_type": "code",
   "execution_count": 13,
   "id": "9d44c775",
   "metadata": {},
   "outputs": [
    {
     "name": "stdout",
     "output_type": "stream",
     "text": [
      "범위의 시작 정수3\n",
      "범위의 마지막 정수5\n",
      "60\n"
     ]
    }
   ],
   "source": [
    "#연습문제 4.\n",
    "import math\n",
    "a=int(input('범위의 시작 정수'))\n",
    "b=int(input('범위의 마지막 정수'))\n",
    "rs=1;\n",
    "for i in range(a,b+1):\n",
    "    rs=math.lcm(rs,i)\n",
    "print(rs)"
   ]
  },
  {
   "cell_type": "code",
   "execution_count": 4,
   "id": "dbd0ee80",
   "metadata": {},
   "outputs": [
    {
     "name": "stdout",
     "output_type": "stream",
     "text": [
      "m입력100\n",
      "n입력200\n",
      "100 과 200 중 큰수는 200\n",
      "100 과 200 중 작은 수는 100\n"
     ]
    }
   ],
   "source": [
    "#연습문제 6.\n",
    "m=int(input('m입력'))\n",
    "n=int(input('n입력'))\n",
    "def max2(m,n):\n",
    "    if(m>n):return m\n",
    "    else:return n\n",
    "def min2(m,n):\n",
    "    if(m<n):return m\n",
    "    else:return n\n",
    "    \n",
    "\n",
    "print(m,'과',n,\"중 큰수는\",max2(m,n))\n",
    "print(m,'과',n,\"중 작은 수는\",min2(m,n))"
   ]
  },
  {
   "cell_type": "code",
   "execution_count": 8,
   "id": "002c4726",
   "metadata": {},
   "outputs": [
    {
     "name": "stdout",
     "output_type": "stream",
     "text": [
      "x1 좌표를 입력하시오0\n",
      "y1 좌표를 입력하시오0\n",
      "x2 좌표를 입력하시오3\n",
      "y2 좌표를 입력하시오4\n",
      "3\n",
      "\n",
      "두점의 거리  5.0\n"
     ]
    }
   ],
   "source": [
    "#연습문제 8.\n",
    "import math\n",
    "x1=int(input('x1 좌표를 입력하시오'))\n",
    "y1=int(input('y1 좌표를 입력하시오'))\n",
    "x2=int(input('x2 좌표를 입력하시오'))\n",
    "y2=int(input('y2 좌표를 입력하시오'))\n",
    "\n",
    "def distance(x1,y1,x2,y2):\n",
    "    print(x2-x1)\n",
    "    print()\n",
    "    return math.sqrt((x2-x1)**2+(y2-y1)**2)\n",
    "print('두점의 거리 ',distance(x1,y1,x2,y2))"
   ]
  },
  {
   "cell_type": "code",
   "execution_count": 9,
   "id": "f296bed9",
   "metadata": {},
   "outputs": [
    {
     "name": "stdout",
     "output_type": "stream",
     "text": [
      "밑변을 입력하시오20\n",
      "높이를 입력하시오15\n",
      "삼각형의 면적:  150.0\n"
     ]
    }
   ],
   "source": [
    "#연습문제 10.\n",
    "w=int(input('밑변을 입력하시오'))\n",
    "h=int(input('높이를 입력하시오'))\n",
    "\n",
    "def calarea(w,h):\n",
    "    return 0.5*w*h\n",
    "print('삼각형의 면적: ',calarea(w,h))\n"
   ]
  },
  {
   "cell_type": "code",
   "execution_count": null,
   "id": "f2c3f730",
   "metadata": {},
   "outputs": [],
   "source": []
  }
 ],
 "metadata": {
  "kernelspec": {
   "display_name": "Python 3 (ipykernel)",
   "language": "python",
   "name": "python3"
  },
  "language_info": {
   "codemirror_mode": {
    "name": "ipython",
    "version": 3
   },
   "file_extension": ".py",
   "mimetype": "text/x-python",
   "name": "python",
   "nbconvert_exporter": "python",
   "pygments_lexer": "ipython3",
   "version": "3.9.12"
  }
 },
 "nbformat": 4,
 "nbformat_minor": 5
}
