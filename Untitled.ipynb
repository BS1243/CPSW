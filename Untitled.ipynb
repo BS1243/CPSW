{
 "cells": [
  {
   "cell_type": "code",
   "execution_count": 1,
   "id": "a5e27e4b",
   "metadata": {},
   "outputs": [
    {
     "data": {
      "text/plain": [
       "datetime.datetime(2022, 10, 19, 0, 37, 23, 124701)"
      ]
     },
     "execution_count": 1,
     "metadata": {},
     "output_type": "execute_result"
    }
   ],
   "source": [
    "import datetime\n",
    "datetime.datetime.now()"
   ]
  },
  {
   "cell_type": "code",
   "execution_count": 2,
   "id": "7a762433",
   "metadata": {},
   "outputs": [
    {
     "name": "stdout",
     "output_type": "stream",
     "text": [
      "2022-10-19\n"
     ]
    },
    {
     "data": {
      "text/plain": [
       "19"
      ]
     },
     "execution_count": 2,
     "metadata": {},
     "output_type": "execute_result"
    }
   ],
   "source": [
    "today=datetime.date.today()\n",
    "print(today)\n",
    "today\n",
    "today.year\n",
    "today.month\n",
    "today.day"
   ]
  },
  {
   "cell_type": "code",
   "execution_count": 3,
   "id": "7d841aa1",
   "metadata": {},
   "outputs": [
    {
     "data": {
      "text/plain": [
       "['MAXYEAR',\n",
       " 'MINYEAR',\n",
       " '__all__',\n",
       " '__builtins__',\n",
       " '__cached__',\n",
       " '__doc__',\n",
       " '__file__',\n",
       " '__loader__',\n",
       " '__name__',\n",
       " '__package__',\n",
       " '__spec__',\n",
       " 'date',\n",
       " 'datetime',\n",
       " 'datetime_CAPI',\n",
       " 'sys',\n",
       " 'time',\n",
       " 'timedelta',\n",
       " 'timezone',\n",
       " 'tzinfo']"
      ]
     },
     "execution_count": 3,
     "metadata": {},
     "output_type": "execute_result"
    }
   ],
   "source": [
    "dir(datetime)"
   ]
  },
  {
   "cell_type": "code",
   "execution_count": 4,
   "id": "89cd9159",
   "metadata": {},
   "outputs": [
    {
     "data": {
      "text/plain": [
       "datetime.datetime(2022, 12, 25, 0, 37, 23, 171466)"
      ]
     },
     "execution_count": 4,
     "metadata": {},
     "output_type": "execute_result"
    }
   ],
   "source": [
    "start_time=datetime.datetime.now()\n",
    "start_time.replace(month=12,day=25)"
   ]
  },
  {
   "cell_type": "code",
   "execution_count": 5,
   "id": "ddf23f28",
   "metadata": {},
   "outputs": [
    {
     "data": {
      "text/plain": [
       "datetime.datetime(2022, 12, 25, 0, 37, 23, 185057)"
      ]
     },
     "execution_count": 5,
     "metadata": {},
     "output_type": "execute_result"
    }
   ],
   "source": [
    "import datetime as dt\n",
    "start_time=dt.datetime.now()\n",
    "start_time.replace(month=12,day=25)"
   ]
  },
  {
   "cell_type": "code",
   "execution_count": 6,
   "id": "6552d7bb",
   "metadata": {},
   "outputs": [
    {
     "data": {
      "text/plain": [
       "datetime.datetime(2022, 12, 25, 0, 37, 23, 201321)"
      ]
     },
     "execution_count": 6,
     "metadata": {},
     "output_type": "execute_result"
    }
   ],
   "source": [
    "from datetime import datetime\n",
    "start_time=datetime.now()\n",
    "start_time.replace(month=12,day=25)"
   ]
  },
  {
   "cell_type": "code",
   "execution_count": 7,
   "id": "2a1859b5",
   "metadata": {},
   "outputs": [
    {
     "name": "stdout",
     "output_type": "stream",
     "text": [
      "오늘의 날짜 : 2022년 10월 19일\n",
      "현재 시간 :오전 0시 37 분  23 초"
     ]
    }
   ],
   "source": [
    "#LAB 7-1\n",
    "from time import localtime\n",
    "print(\"오늘의 날짜 : {}년 {}월 {}일\".format(today.year,today.month,today.day))\n",
    "tm=localtime()\n",
    "\n",
    "print(\"현재 시간 :\",end=(''))\n",
    "if(tm.tm_hour>12):print(\"오후\",tm.tm_hour-12,end=(''))\n",
    "else:print(\"오전\",tm.tm_hour,end=(''))\n",
    "print(\"시\",tm.tm_min,\"분 \",tm.tm_sec,'초',end=(''))\n"
   ]
  },
  {
   "cell_type": "code",
   "execution_count": 8,
   "id": "6ef9bac2",
   "metadata": {},
   "outputs": [
    {
     "name": "stdout",
     "output_type": "stream",
     "text": [
      "오늘은 2022년 10월 19일입니다\n",
      "2025년 크리스마스 까지는 1162일 23시간 남았습니다\n",
      "2036년 새해 까지는 4821일 23시간 남았습니다\n",
      "2023년 생일까지는 107일 23시간 남았습니다\n"
     ]
    }
   ],
   "source": [
    "#LAB 7-2\n",
    "import datetime as dt\n",
    "today=dt.date.today()\n",
    "print('오늘은 {}년 {}월 {}일입니다'.format(today.year,today.month,today.day))\n",
    "xMas=dt.datetime(2025,12,25)\n",
    "ny=dt.datetime(2036,1,1)\n",
    "birth=dt.datetime(2023,2,4)\n",
    "time_gap=xMas-dt.datetime.now()\n",
    "print(\"2025년 크리스마스 까지는 {}일 {}시간 남았습니다\".format(time_gap.days,time_gap.seconds//3600))\n",
    "time_gap=ny-dt.datetime.now()\n",
    "print(\"2036년 새해 까지는 {}일 {}시간 남았습니다\".format(time_gap.days,time_gap.seconds//3600))\n",
    "time_gap=birth-dt.datetime.now()\n",
    "print(\"2023년 생일까지는 {}일 {}시간 남았습니다\".format(time_gap.days,time_gap.seconds//3600))"
   ]
  },
  {
   "cell_type": "code",
   "execution_count": 9,
   "id": "9757208f",
   "metadata": {},
   "outputs": [
    {
     "name": "stdout",
     "output_type": "stream",
     "text": [
      "오늘= 2022-10-19 00:37:23.247905\n",
      "1000일후: 2025-07-15 00:37:23.247905\n"
     ]
    }
   ],
   "source": [
    "#LAB 7-3\n",
    "print('오늘=',dt.datetime.now())\n",
    "hun=dt.timedelta(days=1000)\n",
    "plus1000day=dt.datetime.now()+hun\n",
    "print('1000일후:',plus1000day)"
   ]
  },
  {
   "cell_type": "code",
   "execution_count": 57,
   "id": "30f2d792",
   "metadata": {
    "scrolled": false
   },
   "outputs": [
    {
     "name": "stdout",
     "output_type": "stream",
     "text": [
      "처음으로 사귄 연도와 월,일을 입력하시오:2019 3 30\n",
      "100일 기념일: 2019-07-08\n"
     ]
    }
   ],
   "source": [
    "import datetime as dt\n",
    "y,m,d=input('처음으로 사귄 연도와 월,일을 입력하시오:').split()\n",
    "first=datetime.date(int(y),int(m),int(d))\n",
    "hun=dt.timedelta(days=100)\n",
    "plus100day=first+hun\n",
    "\n",
    "print('100일 기념일:',plus100day)"
   ]
  },
  {
   "cell_type": "code",
   "execution_count": 11,
   "id": "1a5232c7",
   "metadata": {},
   "outputs": [
    {
     "name": "stdout",
     "output_type": "stream",
     "text": [
      "2022-10-19 00:37:43\n"
     ]
    }
   ],
   "source": [
    "import time\n",
    "\n",
    "unix_timestamp=time.time()\n",
    "local_time=time.localtime(unix_timestamp)\n",
    "print(time.strftime('%Y-%m-%d %H:%M:%S',local_time))"
   ]
  },
  {
   "cell_type": "code",
   "execution_count": 12,
   "id": "9175a77b",
   "metadata": {},
   "outputs": [
    {
     "name": "stdout",
     "output_type": "stream",
     "text": [
      "바로 출력되는 구문\n",
      "4.5초후 출력되는 구문\n"
     ]
    }
   ],
   "source": [
    "import time\n",
    "print(\"바로 출력되는 구문\")\n",
    "time.sleep(4.5)\n",
    "print(\"4.5초후 출력되는 구문\")"
   ]
  },
  {
   "cell_type": "code",
   "execution_count": 13,
   "id": "718cb6d9",
   "metadata": {},
   "outputs": [
    {
     "name": "stdout",
     "output_type": "stream",
     "text": [
      "55\n",
      "1에서 10까지의 합을 구하고 출력하는 시간 : 0.0005초\n"
     ]
    }
   ],
   "source": [
    "import time\n",
    "start_time=time.time()\n",
    "print(1+2+3+4+5+6+7+8+9+10)\n",
    "end_time=time.time()\n",
    "gap=end_time-start_time\n",
    "print('1에서 10까지의 합을 구하고 출력하는 시간 :{:7.4f}초'.format(gap))"
   ]
  },
  {
   "cell_type": "code",
   "execution_count": 14,
   "id": "e53409ed",
   "metadata": {},
   "outputs": [
    {
     "name": "stdout",
     "output_type": "stream",
     "text": [
      "4 **2 = 16.0\n",
      "4 **3 = 64.0\n",
      "4 **4 = 256.0\n",
      "4 **5 = 1024.0\n",
      "4 **6 = 4096.0\n",
      "4 **7 = 16384.0\n",
      "4 **8 = 65536.0\n",
      "4 **9 = 262144.0\n",
      "4 **10 = 1048576.0\n"
     ]
    }
   ],
   "source": [
    "#LAB 7-4\n",
    "import math\n",
    "for i in range(2,11):\n",
    "    print(\"4 **{} = {}\".format(i,math.pow(4,i)))"
   ]
  },
  {
   "cell_type": "code",
   "execution_count": 80,
   "id": "4ea892c7",
   "metadata": {},
   "outputs": [
    {
     "name": "stdout",
     "output_type": "stream",
     "text": [
      "0 degree = 0.000\n",
      "10 degree = 0.175\n",
      "20 degree = 0.349\n",
      "30 degree = 0.524\n",
      "40 degree = 0.698\n",
      "50 degree = 0.873\n",
      "60 degree = 1.047\n",
      "70 degree = 1.222\n",
      "80 degree = 1.396\n",
      "90 degree = 1.571\n",
      "100 degree = 1.745\n",
      "110 degree = 1.920\n",
      "120 degree = 2.094\n",
      "130 degree = 2.269\n",
      "140 degree = 2.443\n",
      "150 degree = 2.618\n",
      "160 degree = 2.793\n",
      "170 degree = 2.967\n",
      "180 degree = 3.142\n"
     ]
    }
   ],
   "source": [
    "import math\n",
    "for i in range(0,181,10):\n",
    "    print(\"{} degree = {:.3f}\".format(i,math.radians(i)))"
   ]
  },
  {
   "cell_type": "code",
   "execution_count": 84,
   "id": "cef1eae3",
   "metadata": {},
   "outputs": [
    {
     "name": "stdout",
     "output_type": "stream",
     "text": [
      "0 degree = 0.000\n",
      "10 degree = 0.174\n",
      "20 degree = 0.342\n",
      "30 degree = 0.500\n",
      "40 degree = 0.643\n",
      "50 degree = 0.766\n",
      "60 degree = 0.866\n",
      "70 degree = 0.940\n",
      "80 degree = 0.985\n",
      "90 degree = 1.000\n",
      "100 degree = 0.985\n",
      "110 degree = 0.940\n",
      "120 degree = 0.866\n",
      "130 degree = 0.766\n",
      "140 degree = 0.643\n",
      "150 degree = 0.500\n",
      "160 degree = 0.342\n",
      "170 degree = 0.174\n",
      "180 degree = 0.000\n"
     ]
    }
   ],
   "source": [
    "import math\n",
    "for i in range(0,181,10):\n",
    "    print(\"{} degree = {:.3f}\".format(i,math.sin(math.radians(i))))"
   ]
  },
  {
   "cell_type": "code",
   "execution_count": 17,
   "id": "c9a22c9f",
   "metadata": {},
   "outputs": [
    {
     "name": "stdout",
     "output_type": "stream",
     "text": [
      "A:2 B:3\n",
      "B 우승\n"
     ]
    }
   ],
   "source": [
    "#Dicegame\n",
    "import random as rd\n",
    "while(1):\n",
    "    a=rd.randrange(1,7)\n",
    "    b=rd.randrange(1,7)\n",
    "    print(\"A:{} B:{}\".format(a,b))\n",
    "    if(a>b):\n",
    "        print(\"A 우승\")\n",
    "        break\n",
    "    if(b>a):\n",
    "        print(\"B 우승\")\n",
    "        break\n",
    "    else:\n",
    "        print(\"무승부..재경기\")"
   ]
  },
  {
   "cell_type": "code",
   "execution_count": 18,
   "id": "30d4cdb4",
   "metadata": {},
   "outputs": [
    {
     "name": "stdout",
     "output_type": "stream",
     "text": [
      "0에서 100이하의 정수 중에서 5의 배수\n",
      "[75, 30, 20]\n",
      "1에서 10 사이의 임의의 정수 :\n",
      "[5, 7, 4]\n"
     ]
    }
   ],
   "source": [
    "#LAB 7-5\n",
    "import random as rd\n",
    "li=[]\n",
    "li.append(rd.randrange(0,100,5))\n",
    "li.append(rd.randrange(0,100,5))\n",
    "li.append(rd.randrange(0,100,5))\n",
    "print(\"0에서 100이하의 정수 중에서 5의 배수\")\n",
    "print(li)\n",
    "\n",
    "numlist=[]\n",
    "print('1에서 10 사이의 임의의 정수 :')\n",
    "for i in range(1,11):\n",
    "    numlist.append(i)\n",
    "print(rd.sample(numlist,3))"
   ]
  },
  {
   "cell_type": "code",
   "execution_count": 19,
   "id": "f84a0d2c",
   "metadata": {},
   "outputs": [
    {
     "name": "stdout",
     "output_type": "stream",
     "text": [
      "이번주의 추천 로또 번호:  [1, 2, 5, 8, 14, 15]\n"
     ]
    }
   ],
   "source": [
    "import random as rd\n",
    "lis=list(range(1,46))\n",
    "rd.shuffle(lis)\n",
    "lis=lis[:6]\n",
    "lis.sort()\n",
    "print('이번주의 추천 로또 번호: ',lis)"
   ]
  },
  {
   "cell_type": "code",
   "execution_count": 20,
   "id": "6c80eb28",
   "metadata": {},
   "outputs": [],
   "source": [
    "#LAB 7-7\n",
    "import turtle as t\n",
    "t.forward(100)\n",
    "t.left(120)\n",
    "t.forward(100)\n",
    "t.left(120)\n",
    "t.forward(100)\n",
    "t.left(120)\n",
    "t.forward(200)\n",
    "t.left(120)\n",
    "t.forward(200)\n",
    "t.left(120)\n",
    "t.forward(200)\n",
    "t.left(120)\n",
    "t.done()"
   ]
  },
  {
   "cell_type": "code",
   "execution_count": 22,
   "id": "f40eec41",
   "metadata": {},
   "outputs": [],
   "source": [
    "import turtle as t\n",
    "\n",
    "for _ in range(3):\n",
    "    t.forward(100)\n",
    "    t.left(120)\n",
    "for _ in range(3):\n",
    "    t.forward(200)\n",
    "    t.left(120)\n",
    "t.done()"
   ]
  },
  {
   "cell_type": "code",
   "execution_count": 25,
   "id": "3ad453f0",
   "metadata": {},
   "outputs": [],
   "source": [
    "import turtle as t\n",
    "for i in range(100,301,100):\n",
    "    for _ in range(3):\n",
    "        t.forward(int(i))\n",
    "        t.left(120)\n",
    "t.done()"
   ]
  },
  {
   "cell_type": "code",
   "execution_count": null,
   "id": "8e673156",
   "metadata": {},
   "outputs": [],
   "source": [
    "import turtle as t\n",
    "for i in range(4):\n",
    "    t.forward(100)\n",
    "    t.left(90)\n",
    "t.done()"
   ]
  },
  {
   "cell_type": "code",
   "execution_count": 29,
   "id": "163abebc",
   "metadata": {},
   "outputs": [],
   "source": [
    "#LAB 7-8\n",
    "import turtle as t\n",
    "t.color('blue')\n",
    "t.begin_fill()\n",
    "for _ in range(4):\n",
    "    t.forward(100)\n",
    "    t.left(90)\n",
    "t.end_fill()\n",
    "t.setheading(90)\n",
    "t.color('red')\n",
    "t.begin_fill()\n",
    "for _ in range(4):\n",
    "    t.forward(100)\n",
    "    t.left(90)\n",
    "t.end_fill()\n",
    "t.setheading(180)\n",
    "t.color('yellow')\n",
    "t.begin_fill()\n",
    "for _ in range(4):\n",
    "    t.forward(100)\n",
    "    t.left(90)\n",
    "t.end_fill()\n",
    "t.setheading(270)\n",
    "t.color('green')\n",
    "t.begin_fill()\n",
    "for _ in range(4):\n",
    "    t.forward(100)\n",
    "    t.left(90)\n",
    "t.end_fill()\n",
    "\n"
   ]
  },
  {
   "cell_type": "code",
   "execution_count": 36,
   "id": "cecb0d24",
   "metadata": {},
   "outputs": [],
   "source": [
    "import turtle as t\n",
    "colors=['blue','red','yellow','green']\n",
    "i=0\n",
    "\n",
    "def col(a,i):\n",
    "    t.setheading(i)\n",
    "    t.color(a)\n",
    "    t.begin_fill()\n",
    "    for _ in range(4):\n",
    "        t.forward(100)\n",
    "        t.left(90)\n",
    "    t.end_fill()\n",
    "for i in range(4):\n",
    "    col(colors[i],i*90)\n",
    "    "
   ]
  },
  {
   "cell_type": "code",
   "execution_count": 3,
   "id": "6884ee8d",
   "metadata": {},
   "outputs": [],
   "source": [
    "import turtle as t\n",
    "colors=['blue','red','yellow','green']\n",
    "i=0\n",
    "\n",
    "def col(a,i):\n",
    "    t.setheading(i)\n",
    "    t.color(a)\n",
    "    for _ in range(72):\n",
    "        t.forward(5)\n",
    "        t.left(5)\n",
    "for i in range(4):\n",
    "    col(colors[i],i*90)\n"
   ]
  },
  {
   "cell_type": "code",
   "execution_count": 5,
   "id": "11a3bb54",
   "metadata": {},
   "outputs": [],
   "source": [
    "#LAB 7-9\n",
    "import turtle as t\n",
    "import random as rd\n",
    "\n",
    "t.shape(\"turtle\")\n",
    "d=300\n",
    "for _ in range(40):\n",
    "    t.penup()\n",
    "    x=rd.randint(-d,d)\n",
    "    y=rd.randint(-d,d)\n",
    "    t.goto(x,y)\n",
    "    t.pendown()\n",
    "    t.stamp()\n",
    "t.done()"
   ]
  },
  {
   "cell_type": "code",
   "execution_count": 7,
   "id": "80a92d51",
   "metadata": {},
   "outputs": [],
   "source": [
    "import turtle as t\n",
    "import random as rd\n",
    "colors=['blue','red','yellow','green']\n",
    "\n",
    "t.shape(\"turtle\")\n",
    "d=300\n",
    "for _ in range(40):\n",
    "    t.penup()\n",
    "    x=rd.randint(-d,d)\n",
    "    y=rd.randint(-d,d)\n",
    "    c=rd.randint(0,3)\n",
    "    t.color(colors[c])\n",
    "    t.goto(x,y)\n",
    "    t.pendown()\n",
    "    t.stamp()\n",
    "t.done()"
   ]
  },
  {
   "cell_type": "code",
   "execution_count": 13,
   "id": "a5ec4374",
   "metadata": {},
   "outputs": [
    {
     "name": "stdout",
     "output_type": "stream",
     "text": [
      "1~20까지의 숫자를 입력하세요 :10\n",
      "10 보다 큽니다\n",
      "1~20까지의 숫자를 입력하세요 :15\n",
      "15 보다 큽니다\n",
      "1~20까지의 숫자를 입력하세요 :19\n",
      "19 보다 작습니다\n",
      "1~20까지의 숫자를 입력하세요 :17\n",
      "4 번만에 맞추셨네요. 잘했어요^^\n"
     ]
    }
   ],
   "source": [
    "#연습문제 2.\n",
    "import random as rd\n",
    "n=0\n",
    "while(1):\n",
    "    a=rd.randint(1,20)\n",
    "    ip=int(input(\"1~20까지의 숫자를 입력하세요 :\"))\n",
    "    if(a>ip):\n",
    "        print(ip,\"보다 큽니다\")\n",
    "        n+=1\n",
    "    elif(a<ip):\n",
    "        print(ip,\"보다 작습니다\")\n",
    "        n+=1\n",
    "    else:\n",
    "        n+=1\n",
    "        break\n",
    "if(n<=3):\n",
    "    print(n,\"번 만에 맞춘 당신은 천재!\")\n",
    "elif(n<=6):\n",
    "    print(n,\"번만에 맞추셨네요. 잘했어요^^\")\n",
    "else:\n",
    "    print(n,\"번 만에 맞추다니 쩝쩝...\")"
   ]
  },
  {
   "cell_type": "code",
   "execution_count": 46,
   "id": "a0bf6d4b",
   "metadata": {},
   "outputs": [],
   "source": [
    "#연습문제 4.\n",
    "import turtle as t\n",
    "i=0\n",
    "t.speed(1000)\n",
    "t.setpos(-200,-200)\n",
    "t.clear()\n",
    "t.shapesize(4)\n",
    "t.forward(400)\n",
    "t.left(90)\n",
    "t.forward(400)\n",
    "t.left(90)\n",
    "t.forward(400)\n",
    "t.left(90)\n",
    "t.forward(400)\n",
    "t.shapesize(1)\n",
    "def col(i):\n",
    "    t.begin_fill()\n",
    "    for _ in range(4):\n",
    "        t.forward(50)\n",
    "        t.left(90)\n",
    "    t.end_fill()\n",
    "def a(x,y):\n",
    "    t.pu()\n",
    "    t.setpos(x,y)\n",
    "    t.pd()\n",
    "    for _ in range(4):\n",
    "        t.pu()\n",
    "        t.forward(100)\n",
    "        t.pd()\n",
    "        t.setheading(0)\n",
    "        col(i)\n",
    "a(-200,-100)\n",
    "a(-300,-100)\n",
    "a(-300,0)\n",
    "a(-300,100)\n",
    "a(-250,-150)\n",
    "a(-250,-50)\n",
    "a(-250,50)\n",
    "a(-250,150)\n",
    "t.done()"
   ]
  },
  {
   "cell_type": "code",
   "execution_count": 65,
   "id": "c1587cfe",
   "metadata": {},
   "outputs": [
    {
     "name": "stdout",
     "output_type": "stream",
     "text": [
      "오늘은 2022년 10월 19일입니다\n",
      "춘향이와 몽룡이의 연애 시작일 : 2019-02-24\n",
      "연애 시작일로부터 경과한 날짜 : 1333 일\n",
      "100일 기념일 : 2019-06-04\n",
      "200일 기념일 : 2019-09-12\n",
      "500일 기념일 : 2020-07-08\n",
      "1000일 기념일 : 2021-11-20\n"
     ]
    }
   ],
   "source": [
    "#연습문제 6.\n",
    "import datetime as dt\n",
    "first=datetime.date(2019,2,24)\n",
    "hun=dt.timedelta(days=100)\n",
    "plus100day=first+hun\n",
    "today=dt.date.today()\n",
    "time_gap=today-first\n",
    "print('오늘은 {}년 {}월 {}일입니다'.format(today.year,today.month,today.day))\n",
    "print('춘향이와 몽룡이의 연애 시작일 :',first)\n",
    "print('연애 시작일로부터 경과한 날짜 :',time_gap.days,'일')\n",
    "print('100일 기념일 :',first+hun)\n",
    "print('200일 기념일 :',first+(hun*2))\n",
    "print('500일 기념일 :',first+(hun*5))\n",
    "print('1000일 기념일 :',first+(hun*10))"
   ]
  },
  {
   "cell_type": "code",
   "execution_count": 74,
   "id": "ef1dfb76",
   "metadata": {},
   "outputs": [
    {
     "name": "stdout",
     "output_type": "stream",
     "text": [
      "1000!을 100번 반복해서 구하는 시간 : 0.0035초\n",
      "1에서 1000까지 홀수의 세제곱 더하기 결과: 124999750000.0\n",
      "1에서 1000까지 홀수의 세제곱 더하기를 100번 반복하는 시간 : 0.0107초\n"
     ]
    }
   ],
   "source": [
    "#연습문제 8.\n",
    "import time\n",
    "import math\n",
    "start_time=time.time()\n",
    "for _ in range(100):\n",
    "    dump=math.factorial(1000)\n",
    "end_time=time.time()\n",
    "gap=end_time-start_time\n",
    "print('1000!을 100번 반복해서 구하는 시간 :{:7.4f}초'.format(gap))\n",
    "start_time=time.time()\n",
    "for _ in range(100):\n",
    "    sum=0\n",
    "    for i in range(1,1000,2):\n",
    "        sum+=math.pow(i,3)\n",
    "end_time=time.time()\n",
    "gap=end_time-start_time\n",
    "print('1에서 1000까지 홀수의 세제곱 더하기 결과:',sum)\n",
    "print('1에서 1000까지 홀수의 세제곱 더하기를 100번 반복하는 시간 :{:7.4f}초'.format(gap))"
   ]
  },
  {
   "cell_type": "code",
   "execution_count": 95,
   "id": "a0fd7ada",
   "metadata": {},
   "outputs": [
    {
     "name": "stdout",
     "output_type": "stream",
     "text": [
      "sin(  0  ) =   0.000   cos(  0  ) =   1.000   tan(  0  ) =   0.000\n",
      "sin( 10  ) =   0.174   cos( 10  ) =   0.985   tan( 10  ) =   0.176\n",
      "sin( 20  ) =   0.342   cos( 20  ) =   0.940   tan( 20  ) =   0.364\n",
      "sin( 30  ) =   0.500   cos( 30  ) =   0.866   tan( 30  ) =   0.577\n",
      "sin( 40  ) =   0.643   cos( 40  ) =   0.766   tan( 40  ) =   0.839\n",
      "sin( 50  ) =   0.766   cos( 50  ) =   0.643   tan( 50  ) =   1.192\n",
      "sin( 60  ) =   0.866   cos( 60  ) =   0.500   tan( 60  ) =   1.732\n",
      "sin( 70  ) =   0.940   cos( 70  ) =   0.342   tan( 70  ) =   2.747\n",
      "sin( 80  ) =   0.985   cos( 80  ) =   0.174   tan( 80  ) =   5.671\n",
      "sin( 90  ) =   1.000   cos( 90  ) =   0.000   tan( 90  ) = 16331239353195370.000\n",
      "sin( 100 ) =   0.985   cos( 100 ) =  -0.174   tan( 100 ) =  -5.671\n",
      "sin( 110 ) =   0.940   cos( 110 ) =  -0.342   tan( 110 ) =  -2.747\n",
      "sin( 120 ) =   0.866   cos( 120 ) =  -0.500   tan( 120 ) =  -1.732\n",
      "sin( 130 ) =   0.766   cos( 130 ) =  -0.643   tan( 130 ) =  -1.192\n",
      "sin( 140 ) =   0.643   cos( 140 ) =  -0.766   tan( 140 ) =  -0.839\n",
      "sin( 150 ) =   0.500   cos( 150 ) =  -0.866   tan( 150 ) =  -0.577\n",
      "sin( 160 ) =   0.342   cos( 160 ) =  -0.940   tan( 160 ) =  -0.364\n",
      "sin( 170 ) =   0.174   cos( 170 ) =  -0.985   tan( 170 ) =  -0.176\n",
      "sin( 180 ) =   0.000   cos( 180 ) =  -1.000   tan( 180 ) =  -0.000\n"
     ]
    }
   ],
   "source": [
    "#연습문제 10.\n",
    "for a in range(0,181,10):\n",
    "    i=math.radians(a)\n",
    "    print(\"sin({:^5d}) = {:7.3f}   cos({:^5d}) = {:7.3f}   tan({:^5d}) = {:7.3f}\".format(a,math.sin(i),a,math.cos(i),a,math.tan(i)))"
   ]
  },
  {
   "cell_type": "code",
   "execution_count": null,
   "id": "d3167e9b",
   "metadata": {},
   "outputs": [],
   "source": []
  }
 ],
 "metadata": {
  "kernelspec": {
   "display_name": "Python 3 (ipykernel)",
   "language": "python",
   "name": "python3"
  },
  "language_info": {
   "codemirror_mode": {
    "name": "ipython",
    "version": 3
   },
   "file_extension": ".py",
   "mimetype": "text/x-python",
   "name": "python",
   "nbconvert_exporter": "python",
   "pygments_lexer": "ipython3",
   "version": "3.9.12"
  }
 },
 "nbformat": 4,
 "nbformat_minor": 5
}
