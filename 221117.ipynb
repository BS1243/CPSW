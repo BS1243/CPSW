{
 "cells": [
  {
   "cell_type": "code",
   "execution_count": 1,
   "id": "a986717b",
   "metadata": {},
   "outputs": [
    {
     "name": "stdout",
     "output_type": "stream",
     "text": [
      "100\n",
      "20000\n",
      "2.0\n",
      "40\n",
      "['__abs__', '__add__', '__and__', '__bool__', '__ceil__', '__class__', '__delattr__', '__dir__', '__divmod__', '__doc__', '__eq__', '__float__', '__floor__', '__floordiv__', '__format__', '__ge__', '__getattribute__', '__getnewargs__', '__gt__', '__hash__', '__index__', '__init__', '__init_subclass__', '__int__', '__invert__', '__le__', '__lshift__', '__lt__', '__mod__', '__mul__', '__ne__', '__neg__', '__new__', '__or__', '__pos__', '__pow__', '__radd__', '__rand__', '__rdivmod__', '__reduce__', '__reduce_ex__', '__repr__', '__rfloordiv__', '__rlshift__', '__rmod__', '__rmul__', '__ror__', '__round__', '__rpow__', '__rrshift__', '__rshift__', '__rsub__', '__rtruediv__', '__rxor__', '__setattr__', '__sizeof__', '__str__', '__sub__', '__subclasshook__', '__truediv__', '__trunc__', '__xor__', 'as_integer_ratio', 'bit_length', 'conjugate', 'denominator', 'from_bytes', 'imag', 'numerator', 'real', 'to_bytes']\n",
      "['__add__', '__class__', '__class_getitem__', '__contains__', '__delattr__', '__delitem__', '__dir__', '__doc__', '__eq__', '__format__', '__ge__', '__getattribute__', '__getitem__', '__gt__', '__hash__', '__iadd__', '__imul__', '__init__', '__init_subclass__', '__iter__', '__le__', '__len__', '__lt__', '__mul__', '__ne__', '__new__', '__reduce__', '__reduce_ex__', '__repr__', '__reversed__', '__rmul__', '__setattr__', '__setitem__', '__sizeof__', '__str__', '__subclasshook__', 'append', 'clear', 'copy', 'count', 'extend', 'index', 'insert', 'pop', 'remove', 'reverse', 'sort']\n"
     ]
    }
   ],
   "source": [
    "#LAB 9-1\n",
    "print((200).__sub__(100))\n",
    "print((200).__mul__(100))\n",
    "print((200).__truediv__(100))\n",
    "print([10,20,30,40].pop())\n",
    "print(dir(int))\n",
    "print(dir(list))"
   ]
  },
  {
   "cell_type": "code",
   "execution_count": 7,
   "id": "db1aa81c",
   "metadata": {},
   "outputs": [
    {
     "name": "stdout",
     "output_type": "stream",
     "text": [
      "멍멍~~\n"
     ]
    }
   ],
   "source": [
    "#LAB 9-4\n",
    "class Dog:\n",
    "    def bark(self):\n",
    "        print('멍멍~~')\n",
    "my_dog=Dog()\n",
    "my_dog.bark()"
   ]
  },
  {
   "cell_type": "code",
   "execution_count": 8,
   "id": "8e1b73c7",
   "metadata": {},
   "outputs": [
    {
     "name": "stdout",
     "output_type": "stream",
     "text": [
      "멍멍~~\n"
     ]
    }
   ],
   "source": [
    "#LAB 9-5\n",
    "class Dog:\n",
    "    def __init__(self,name):\n",
    "        self.name=name\n",
    "    def bark(self):\n",
    "        print('멍멍~~')\n",
    "my_dog=Dog('Jindo')\n",
    "my_dog.bark()"
   ]
  },
  {
   "cell_type": "code",
   "execution_count": 12,
   "id": "a82a332e",
   "metadata": {},
   "outputs": [
    {
     "name": "stdout",
     "output_type": "stream",
     "text": [
      "멍멍~~\n",
      "my dog의 정보 : Dog(name=Jindo)\n"
     ]
    }
   ],
   "source": [
    "#LAB 9-6\n",
    "class Dog:\n",
    "    def __init__(self,name):\n",
    "        self.name=name\n",
    "    def bark(self):\n",
    "        print('멍멍~~')\n",
    "    def __str__(self):\n",
    "        return 'my dog의 정보 : Dog(name={})'.format(self.name)\n",
    "my_dog=Dog('Jindo')\n",
    "my_dog.bark()\n",
    "print(format(my_dog))"
   ]
  },
  {
   "cell_type": "code",
   "execution_count": 11,
   "id": "e1891b5f",
   "metadata": {},
   "outputs": [
    {
     "name": "stdout",
     "output_type": "stream",
     "text": [
      "n is m\n"
     ]
    }
   ],
   "source": [
    "#LAB 9-7\n",
    "n=100\n",
    "m=100\n",
    "if n is m:\n",
    "    print('n is m')\n",
    "else:\n",
    "    print('n is not m')\n",
    "    "
   ]
  },
  {
   "cell_type": "code",
   "execution_count": 23,
   "id": "70dfdbaa",
   "metadata": {},
   "outputs": [
    {
     "name": "stdout",
     "output_type": "stream",
     "text": [
      "v1*v2= (300,600)\n",
      "v1/v2= (3.0,2.0)\n",
      "-v1= (-30,-40)\n"
     ]
    }
   ],
   "source": [
    "#LAB 9-8\n",
    "class Vector2D:\n",
    "    def __init__(self,x,y):\n",
    "        self.x=x\n",
    "        self.y=y\n",
    "    def __truediv__(self,other):\n",
    "        return Vector2D(self.x/other.x,self.y/other.y)\n",
    "    def __sub__(self,other):\n",
    "        return Vector2D(self.x-other.x,self.y-other.y)\n",
    "    def __str__(self):\n",
    "        return \"({},{})\".format(self.x,self.y)\n",
    "    def __neg__(self):\n",
    "        return Vector2D(-self.x,-self.y)\n",
    "    def __mul__(self,other):\n",
    "        return Vector2D(self.x*other.x,self.x*other.y)\n",
    "v1=Vector2D(30,40)\n",
    "v2=Vector2D(10,20)\n",
    "v3=v1*v2\n",
    "print('v1*v2=',v3)\n",
    "v4=v1/v2\n",
    "print('v1/v2=',v4)\n",
    "v5=-v1\n",
    "print('-v1=',v5)\n"
   ]
  },
  {
   "cell_type": "code",
   "execution_count": 25,
   "id": "aac3b03a",
   "metadata": {},
   "outputs": [
    {
     "name": "stdout",
     "output_type": "stream",
     "text": [
      "True\n",
      "True\n",
      "False\n",
      "False\n"
     ]
    }
   ],
   "source": [
    "#LAB 9-9\n",
    "class Vector2D:\n",
    "    def __init__(self,x,y):\n",
    "        self.x=x\n",
    "        self.y=y\n",
    "    def __gt__(self,other):\n",
    "        if(self.x>other.x):\n",
    "            print('True')\n",
    "        else:\n",
    "            print('False')\n",
    "    def __lt__(self,other):\n",
    "        if(self.x<other.x):\n",
    "            print('True')\n",
    "        else:\n",
    "            print('False')\n",
    "    def __ge__(self,other):\n",
    "        if(self.x>=other.x):\n",
    "            print('True')\n",
    "        else:\n",
    "            print('False')\n",
    "    def __le__(self,other):\n",
    "        if(self.x<=other.x):\n",
    "            print('True')\n",
    "        else:\n",
    "            print('False')\n",
    "\n",
    "v1=Vector2D(30,40)\n",
    "v2=Vector2D(10,20)\n",
    "v1>v2\n",
    "v1>=v2\n",
    "v1<v2\n",
    "v1<=v2\n",
    "\n"
   ]
  },
  {
   "cell_type": "code",
   "execution_count": 26,
   "id": "fc91d327",
   "metadata": {},
   "outputs": [
    {
     "name": "stdout",
     "output_type": "stream",
     "text": [
      "{'width': 100, 'height': 200}\n",
      "100\n"
     ]
    }
   ],
   "source": [
    "#LAB 9-10\n",
    "class Rect:\n",
    "    def __init__(self,width,height):\n",
    "        self.width=width\n",
    "        self.height=height\n",
    "        \n",
    "r1=Rect(100,200)\n",
    "print(r1.__dict__)\n",
    "print(r1.__dict__['width'])\n",
    "\n"
   ]
  },
  {
   "cell_type": "code",
   "execution_count": 28,
   "id": "7e279120",
   "metadata": {},
   "outputs": [
    {
     "name": "stdout",
     "output_type": "stream",
     "text": [
      "{'_Rect__width': 100, '_Rect__height': 200}\n",
      "100\n"
     ]
    }
   ],
   "source": [
    "class Rect:\n",
    "    def __init__(self,width,height):\n",
    "        self.__width=width\n",
    "        self.__height=height\n",
    "        \n",
    "r1=Rect(100,200)\n",
    "print(r1.__dict__)\n",
    "print(r1.__dict__['_Rect__width'])\n",
    "\n"
   ]
  },
  {
   "cell_type": "code",
   "execution_count": 29,
   "id": "0db09f96",
   "metadata": {},
   "outputs": [
    {
     "name": "stdout",
     "output_type": "stream",
     "text": [
      "이름은 Jindo이고  나이는 3살입니다\n"
     ]
    }
   ],
   "source": [
    "#1\n",
    "class Dog:\n",
    "    def __init__(self,name,age):\n",
    "        self.name=name\n",
    "        self.age=age\n",
    "    def __str__(self):\n",
    "        return '이름은 {}이고  나이는 {}살입니다'.format(self.name,self.age)\n",
    "my_dog=Dog('Mango',3)\n",
    "print(format(my_dog))"
   ]
  },
  {
   "cell_type": "code",
   "execution_count": 40,
   "id": "ed893ed8",
   "metadata": {},
   "outputs": [
    {
     "name": "stdout",
     "output_type": "stream",
     "text": [
      "c1= C(11)\n",
      "c2= C(1)\n",
      "c2= C(0)\n",
      "c3= C(30)\n",
      "c4= C(0)\n"
     ]
    }
   ],
   "source": [
    "#2\n",
    "class Counter:\n",
    "    def __init__(self,number=0):\n",
    "        self.number=number\n",
    "    def __str__(self):\n",
    "        return 'C({})'.format(self.number)\n",
    "    def inc(self):\n",
    "        self.number+=1\n",
    "    def dec(self):\n",
    "        self.number-=1\n",
    "    def reset(self):\n",
    "        self.number=0\n",
    "    def __add__(self,other):\n",
    "        if(self.number+other.number>100):\n",
    "            return Counter(0)\n",
    "        else:\n",
    "            return Counter(self.number+other.number)\n",
    "    def __sub__(self,other):\n",
    "        if(self.number-other.number<0):\n",
    "            return Counter(0)\n",
    "        else:\n",
    "            return Counter(self.number-other.number)\n",
    "\n",
    "c1=Counter(10)\n",
    "c1.inc()\n",
    "print('c1=',c1)\n",
    "c2=Counter()\n",
    "c2.inc()\n",
    "c2.inc()\n",
    "c2.dec()\n",
    "print('c2=',c2)\n",
    "c2.reset()\n",
    "print('c2=',c2)\n",
    "c1=Counter(10)\n",
    "c2=Counter(20)\n",
    "c3=c1+c2\n",
    "c4=c1-c2\n",
    "print('c3=',c3)\n",
    "print('c4=',c4)"
   ]
  },
  {
   "cell_type": "code",
   "execution_count": 7,
   "id": "4ba4c8c4",
   "metadata": {},
   "outputs": [
    {
     "name": "stdout",
     "output_type": "stream",
     "text": [
      "홍길동님의 계좌 1234-0001의 잔고는 0원입니다\n",
      "2000원이 입급되었습니다. 잔고는 2000원입니다\n",
      "홍길동님의 계좌 1234-0001의 잔고는 2000원입니다\n",
      "홍길동님의 계좌 1234-0001의 잔고는 1500원입니다\n",
      "계좌의 잔고는 1500원으로 인출 요구 금액 5000원 보다 작습니다\n"
     ]
    },
    {
     "data": {
      "text/plain": [
       "0"
      ]
     },
     "execution_count": 7,
     "metadata": {},
     "output_type": "execute_result"
    }
   ],
   "source": [
    "#3\n",
    "class BAC:\n",
    "    def __init__(self,name,acnum):\n",
    "        self.name=name\n",
    "        self.acnum=acnum\n",
    "        self.bal=0\n",
    "    def deposit(self,money):\n",
    "        self.bal+=money\n",
    "        print('{}원이 입급되었습니다. 잔고는 {}원입니다'.format(money,self.bal))\n",
    "    def withdraw(self,money):\n",
    "        if(self.bal<money):\n",
    "            print(\"계좌의 잔고는 {}원으로 인출 요구 금액 {}원 보다 작습니다\".format(self.bal,money))\n",
    "            return 0\n",
    "        else:\n",
    "            self.bal-=money\n",
    "    def __str__(self):\n",
    "        return ('{}님의 계좌 {}의 잔고는 {}원입니다'.format(self.name,self.acnum,self.bal))\n",
    "ac1=BAC('홍길동','1234-0001')\n",
    "print(ac1)\n",
    "ac1.deposit(2000)\n",
    "print(ac1)\n",
    "ac1.withdraw(500)\n",
    "print(ac1)\n",
    "ac1.withdraw(5000)"
   ]
  },
  {
   "cell_type": "code",
   "execution_count": 13,
   "id": "9201e15a",
   "metadata": {},
   "outputs": [
    {
     "name": "stdout",
     "output_type": "stream",
     "text": [
      "학생의 이름을 입력하세요 :홍길동\n",
      "학생의 학번을 입력하세요 :20200012\n",
      "학생의 국어 성적을 입력하세요 :85\n",
      "학생의 수학 성적을 입력하세요 :90\n",
      "학생의 과학 성적을 입력하세요 :95\n",
      "이름 :홍길동,학번 :20200012\n",
      "국어성적 :85, 수학성적 :90, 과학성적 :95\n",
      "합계 :270 평균 :90.0\n"
     ]
    }
   ],
   "source": [
    "#4\n",
    "class Student:\n",
    "    def __init__(self,name,stid):\n",
    "        self.name=name\n",
    "        self.stid=stid\n",
    "        self.kq=0\n",
    "        self.mq=0\n",
    "        self.sq=0\n",
    "        self.ts=0\n",
    "    def set_kq(self,sc):\n",
    "        self.kq=sc\n",
    "        self.ts=self.kq+self.sq+self.mq\n",
    "    def set_mq(self,sc):\n",
    "        self.mq=sc\n",
    "        self.ts=self.kq+self.sq+self.mq\n",
    "    def set_sq(self,sc):\n",
    "        self.sq=sc\n",
    "        self.ts=self.kq+self.sq+self.mq\n",
    "    def __str__(self):\n",
    "            return (\"\"\"이름 :{},학번 :{}\n",
    "국어성적 :{}, 수학성적 :{}, 과학성적 :{}\n",
    "합계 :{} 평균 :{}\"\"\".format(self.name,self.stid,self.kq,self.mq,self.sq,self.ts,self.ts/3))\n",
    "\n",
    "name=input('학생의 이름을 입력하세요 :')\n",
    "stid=input('학생의 학번을 입력하세요 :')\n",
    "student=Student(name,stid)\n",
    "kq=int(input('학생의 국어 성적을 입력하세요 :'))\n",
    "mq=int(input('학생의 수학 성적을 입력하세요 :'))\n",
    "sq=int(input('학생의 과학 성적을 입력하세요 :'))\n",
    "student.set_kq(kq)\n",
    "student.set_mq(mq)\n",
    "student.set_sq(sq)\n",
    "print(student)"
   ]
  },
  {
   "cell_type": "code",
   "execution_count": 30,
   "id": "2662e21e",
   "metadata": {},
   "outputs": [
    {
     "name": "stdout",
     "output_type": "stream",
     "text": [
      "TV가 꺼짐 상태입니다\n",
      "볼륨=5, 채널=0\n",
      "볼륨=5, 채널=200\n",
      "볼륨=6, 채널=0\n"
     ]
    }
   ],
   "source": [
    "#5\n",
    "MIN_VOL=0\n",
    "MAX_VOL=20\n",
    "MIN_CH=0\n",
    "MAX_CH=200\n",
    "class TV:\n",
    "    def __init__(self,volume=5,channel=0):\n",
    "        self.v=volume\n",
    "        self.ch=channel\n",
    "        if (self.v==5 & self.ch==0):\n",
    "            self.ison=0\n",
    "        else:\n",
    "            self.ison=1\n",
    "    def toggle_power(self):\n",
    "        if(self.ison):\n",
    "            self.ison=0\n",
    "        else:\n",
    "            self.ison=1\n",
    "    def set_ch(self,ch):\n",
    "        if(ch>200 or ch<0):\n",
    "            print(\"채널오류\")\n",
    "        else:\n",
    "            self.ch=ch\n",
    "    def v_up(self):\n",
    "        self.v+=1\n",
    "    def v_dn(self):\n",
    "        self.v-=1\n",
    "    def ch_up(self):\n",
    "        self.ch=(self.ch+1)%201\n",
    "    def ch_dw(self):\n",
    "        self.ch-=1\n",
    "        if(self.ch<0):\n",
    "            self.ch=200\n",
    "    def __str__(self):\n",
    "        if(self.ison):\n",
    "            return(\"TV가 꺼짐 상태입니다\")\n",
    "        else:\n",
    "            return (\"볼륨={}, 채널={}\".format(self.v,self.ch))\n",
    "my_tv=TV()\n",
    "print(my_tv)\n",
    "my_tv.toggle_power()\n",
    "print(my_tv)\n",
    "my_tv.set_ch(200)\n",
    "print(my_tv)\n",
    "my_tv.v_up()\n",
    "my_tv.ch_up()\n",
    "print(my_tv)\n",
    "\n",
    "\n",
    "\n",
    "    "
   ]
  },
  {
   "cell_type": "code",
   "execution_count": 57,
   "id": "1f7b307f",
   "metadata": {},
   "outputs": [
    {
     "name": "stdout",
     "output_type": "stream",
     "text": [
      "r1=  Rectangle : ( x = 0, y = 0, h = 100), 면적: 10000\n",
      "r2=  Rectangle : ( x = 0, y = -10, h = 10), 면적: 100\n",
      "r3=  Rectangle : ( x = -100, y = 0, h = 100), 면적: 12000\n",
      "TRUE\n",
      "FALSE\n",
      "TRUE\n",
      "TRUE\n"
     ]
    }
   ],
   "source": [
    "#6\n",
    "class Rectangle:\n",
    "    def __init__(self,x,y,w,h):\n",
    "            self.x=x\n",
    "            self.y=y\n",
    "            self.w=w\n",
    "            self.h=h\n",
    "            self.rx=self.x+w\n",
    "            self.ry=self.y-h\n",
    "    def __str__(self):\n",
    "        return(\"Rectangle : ( x = {}, y = {}, h = {}), 면적: {}\".format(self.x,self.y,self.h,self.w*self.h))\n",
    "\n",
    "    def contains(self,other):\n",
    "        if(self.x>=other.rx or self.y>other.y):\n",
    "            print(\"TRUE\")\n",
    "            return(0)\n",
    "        else:\n",
    "            print(\"FALSE\")\n",
    "    def overlaps(self,other):\n",
    "        if((self.x>=other.x and self.rx>=other.rx)or(self.ry>=other.ry and self.y>=other.y)):\n",
    "            print(\"TRUE\")\n",
    "        else:\n",
    "            print(\"FALSE\")\n",
    "    \n",
    "        \n",
    "            \n",
    "r1=Rectangle(0,0,100,100)\n",
    "r2=Rectangle(0,-10,10,10)\n",
    "r3=Rectangle(-100,0,120,100)\n",
    "print('r1= ',r1)\n",
    "print('r2= ',r2)\n",
    "print('r3= ',r3)\n",
    "r1.contains(r2)\n",
    "r1.contains(r3)\n",
    "r1.overlaps(r2)\n",
    "r1.overlaps(r3)"
   ]
  },
  {
   "cell_type": "code",
   "execution_count": null,
   "id": "62d0ddf2",
   "metadata": {},
   "outputs": [],
   "source": []
  }
 ],
 "metadata": {
  "kernelspec": {
   "display_name": "Python 3 (ipykernel)",
   "language": "python",
   "name": "python3"
  },
  "language_info": {
   "codemirror_mode": {
    "name": "ipython",
    "version": 3
   },
   "file_extension": ".py",
   "mimetype": "text/x-python",
   "name": "python",
   "nbconvert_exporter": "python",
   "pygments_lexer": "ipython3",
   "version": "3.9.12"
  }
 },
 "nbformat": 4,
 "nbformat_minor": 5
}
