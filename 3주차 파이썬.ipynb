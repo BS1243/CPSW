{
 "cells": [
  {
   "cell_type": "code",
   "execution_count": 1,
   "id": "e671f5e7",
   "metadata": {},
   "outputs": [],
   "source": [
    "game_score=800\n",
    "if game_score>1000:\n",
    "    print(\"당신은 고수입니다\")\n"
   ]
  },
  {
   "cell_type": "code",
   "execution_count": 2,
   "id": "5670c9be",
   "metadata": {},
   "outputs": [
    {
     "name": "stdout",
     "output_type": "stream",
     "text": [
      "당신은 고수입니다\n"
     ]
    }
   ],
   "source": [
    "game_score=1300\n",
    "if game_score>1000:\n",
    "    print(\"당신은 고수입니다\")\n"
   ]
  },
  {
   "cell_type": "code",
   "execution_count": 4,
   "id": "8405af23",
   "metadata": {},
   "outputs": [],
   "source": [
    "num_a=100\n",
    "num_b=200\n",
    "if num_a==num_b:\n",
    "    print(\"두값이 일치합니다\")"
   ]
  },
  {
   "cell_type": "code",
   "execution_count": 6,
   "id": "f4eb47e5",
   "metadata": {},
   "outputs": [
    {
     "name": "stdout",
     "output_type": "stream",
     "text": [
      "두값이 일치합니다\n"
     ]
    }
   ],
   "source": [
    "num_a=100\n",
    "num_b=100\n",
    "if num_a==num_b:\n",
    "    print(\"두값이 일치합니다\")"
   ]
  },
  {
   "cell_type": "code",
   "execution_count": null,
   "id": "32ee315e",
   "metadata": {},
   "outputs": [],
   "source": [
    "x=int(input(\"정수를 입력하세요\"))\n",
    "print(\"n=\",x)\n",
    "if(x%2==0):\n",
    "    print(x,'은(는) 짝수입니다')"
   ]
  },
  {
   "cell_type": "code",
   "execution_count": null,
   "id": "f212f7f7",
   "metadata": {},
   "outputs": [],
   "source": [
    "x=int(input(\"정수를 입력하세요\"))\n",
    "print(\"n=\",x)\n",
    "if(x%2==0):\n",
    "    print(x,'은(는) 짝수입니다')"
   ]
  },
  {
   "cell_type": "code",
   "execution_count": null,
   "id": "c1844369",
   "metadata": {},
   "outputs": [],
   "source": [
    "x=int(input(\"정수를 입력하세요\"))\n",
    "print(\"game_score=\",x)\n",
    "if x>1000:\n",
    "    print(\"고수입니다.\")\n",
    "else:\n",
    "    print(\"입문자입니다\")"
   ]
  },
  {
   "cell_type": "code",
   "execution_count": 12,
   "id": "2a96895a",
   "metadata": {},
   "outputs": [
    {
     "name": "stdout",
     "output_type": "stream",
     "text": [
      "정수를 입력하세요1000\n",
      "game_score= 1000\n",
      "입문자입니다\n"
     ]
    }
   ],
   "source": [
    "x=int(input(\"정수를 입력하세요\"))\n",
    "print(\"game_score=\",x)\n",
    "if x>1000:\n",
    "    print(\"고수입니다.\")\n",
    "else:\n",
    "    print(\"입문자입니다\")"
   ]
  },
  {
   "cell_type": "code",
   "execution_count": 13,
   "id": "d26d58e4",
   "metadata": {},
   "outputs": [
    {
     "name": "stdout",
     "output_type": "stream",
     "text": [
      "당신은 성인인가요(성인이면1,미성년이면 0)1\n",
      "결혼을 하셨나요(기혼이면 1,미혼이면 0)1\n",
      "당신은 결혼한 성인입니다\n"
     ]
    }
   ],
   "source": [
    "x=int(input(\"당신은 성인인가요(성인이면1,미성년이면 0)\"))\n",
    "if(x==0):\n",
    "    print(\"당신은 미성년자입니다.\")\n",
    "elif(x==1):\n",
    "    t=int(input(\"결혼을 하셨나요(기혼이면 1,미혼이면 0)\"))\n",
    "    if(t==0):\n",
    "        print(\"당신은 결혼하지 않은 성인입니다\")\n",
    "    else:\n",
    "        print(\"당신은 결혼한 성인입니다\")\n",
    "else:\n",
    "    print(\"ERROR\")\n",
    "    "
   ]
  },
  {
   "cell_type": "code",
   "execution_count": 14,
   "id": "95bd0214",
   "metadata": {},
   "outputs": [
    {
     "name": "stdout",
     "output_type": "stream",
     "text": [
      "당신은 성인인가요(성인이면1,미성년이면 0)1\n",
      "결혼을 하셨나요(기혼이면 1,미혼이면 0)0\n",
      "당신은 결혼하지 않은 성인입니다\n"
     ]
    }
   ],
   "source": [
    "x=int(input(\"당신은 성인인가요(성인이면1,미성년이면 0)\"))\n",
    "if(x==0):\n",
    "    print(\"당신은 미성년자입니다.\")\n",
    "elif(x==1):\n",
    "    t=int(input(\"결혼을 하셨나요(기혼이면 1,미혼이면 0)\"))\n",
    "    if(t==0):\n",
    "        print(\"당신은 결혼하지 않은 성인입니다\")\n",
    "    else:\n",
    "        print(\"당신은 결혼한 성인입니다\")\n",
    "else:\n",
    "    print(\"ERROR\")\n",
    "    \n",
    "    "
   ]
  },
  {
   "cell_type": "code",
   "execution_count": 15,
   "id": "54cd9232",
   "metadata": {},
   "outputs": [
    {
     "name": "stdout",
     "output_type": "stream",
     "text": [
      "당신은 성인인가요(성인이면1,미성년이면 0)0\n",
      "당신은 미성년자입니다.\n"
     ]
    }
   ],
   "source": [
    "x=int(input(\"당신은 성인인가요(성인이면1,미성년이면 0)\"))\n",
    "if(x==0):\n",
    "    print(\"당신은 미성년자입니다.\")\n",
    "elif(x==1):\n",
    "    t=int(input(\"결혼을 하셨나요(기혼이면 1,미혼이면 0)\"))\n",
    "    if(t==0):\n",
    "        print(\"당신은 결혼하지 않은 성인입니다\")\n",
    "    else:\n",
    "        print(\"당신은 결혼한 성인입니다\")\n",
    "else:\n",
    "    print(\"ERROR\")\n",
    "    "
   ]
  },
  {
   "cell_type": "code",
   "execution_count": 16,
   "id": "403c17da",
   "metadata": {},
   "outputs": [
    {
     "name": "stdout",
     "output_type": "stream",
     "text": [
      "True\n"
     ]
    }
   ],
   "source": [
    "num=2\n",
    "if((num>1)and(num<10)):\n",
    "    print(\"True\")\n",
    "else:\n",
    "    print(\"False\")"
   ]
  },
  {
   "cell_type": "code",
   "execution_count": 18,
   "id": "a2a983ee",
   "metadata": {},
   "outputs": [
    {
     "name": "stdout",
     "output_type": "stream",
     "text": [
      "False\n"
     ]
    }
   ],
   "source": [
    "num=14\n",
    "if((num>1)and(num<10)):\n",
    "    print(\"True\")\n",
    "else:\n",
    "    print(\"False\")"
   ]
  },
  {
   "cell_type": "code",
   "execution_count": 21,
   "id": "24ce61cc",
   "metadata": {},
   "outputs": [],
   "source": [
    "age=10\n",
    "if((age>10)and(age<19)):\n",
    "    print(\"청소년입니다.\")"
   ]
  },
  {
   "cell_type": "code",
   "execution_count": 20,
   "id": "0e607163",
   "metadata": {},
   "outputs": [
    {
     "name": "stdout",
     "output_type": "stream",
     "text": [
      "청소년입니다.\n"
     ]
    }
   ],
   "source": [
    "age=12\n",
    "if((num>10)and(num<19)):\n",
    "    print(\"청소년입니다.\")"
   ]
  },
  {
   "cell_type": "code",
   "execution_count": 22,
   "id": "3246a2d8",
   "metadata": {},
   "outputs": [
    {
     "name": "stdout",
     "output_type": "stream",
     "text": [
      "자동차의 속도를 입력하세요(단위 : Km/h)13\n",
      "저속\n"
     ]
    }
   ],
   "source": [
    "speed=int(input(\"자동차의 속도를 입력하세요(단위 : Km/h)\"))\n",
    "if(speed>100):\n",
    "    print(\"고속\")\n",
    "elif((speed<100)and(speed>60)):\n",
    "    print(\"중속\")\n",
    "else:\n",
    "    print(\"저속\")"
   ]
  },
  {
   "cell_type": "code",
   "execution_count": 23,
   "id": "7b3d5b52",
   "metadata": {},
   "outputs": [
    {
     "name": "stdout",
     "output_type": "stream",
     "text": [
      "자동차의 속도를 입력하세요(단위 : Km/h)130\n",
      "고속\n"
     ]
    }
   ],
   "source": [
    "speed=int(input(\"자동차의 속도를 입력하세요(단위 : Km/h)\"))\n",
    "if(speed>100):\n",
    "    print(\"고속\")\n",
    "elif((speed<100)and(speed>60)):\n",
    "    print(\"중속\")\n",
    "else:\n",
    "    print(\"저속\")"
   ]
  },
  {
   "cell_type": "code",
   "execution_count": 24,
   "id": "6259f630",
   "metadata": {},
   "outputs": [
    {
     "name": "stdout",
     "output_type": "stream",
     "text": [
      "Hello,Python\n",
      "Hello,Python\n",
      "Hello,Python\n",
      "Hello,Python\n",
      "Hello,Python\n"
     ]
    }
   ],
   "source": [
    "for i in range(5):\n",
    "    print(\"Hello,Python\")"
   ]
  },
  {
   "cell_type": "code",
   "execution_count": 25,
   "id": "19c8b18d",
   "metadata": {},
   "outputs": [
    {
     "name": "stdout",
     "output_type": "stream",
     "text": [
      "0\n",
      "1\n",
      "2\n",
      "3\n",
      "4\n"
     ]
    }
   ],
   "source": [
    "for i in range(5):\n",
    "    print(i)"
   ]
  },
  {
   "cell_type": "code",
   "execution_count": 31,
   "id": "7576582a",
   "metadata": {},
   "outputs": [
    {
     "data": {
      "text/plain": [
       "[0,\n",
       " 1,\n",
       " 2,\n",
       " 3,\n",
       " 4,\n",
       " 5,\n",
       " 6,\n",
       " 7,\n",
       " 8,\n",
       " 9,\n",
       " 10,\n",
       " 11,\n",
       " 12,\n",
       " 13,\n",
       " 14,\n",
       " 15,\n",
       " 16,\n",
       " 17,\n",
       " 18,\n",
       " 19,\n",
       " 20,\n",
       " 21,\n",
       " 22,\n",
       " 23,\n",
       " 24,\n",
       " 25,\n",
       " 26,\n",
       " 27,\n",
       " 28,\n",
       " 29,\n",
       " 30,\n",
       " 31,\n",
       " 32,\n",
       " 33,\n",
       " 34,\n",
       " 35,\n",
       " 36,\n",
       " 37,\n",
       " 38,\n",
       " 39,\n",
       " 40,\n",
       " 41,\n",
       " 42,\n",
       " 43,\n",
       " 44,\n",
       " 45,\n",
       " 46,\n",
       " 47,\n",
       " 48,\n",
       " 49,\n",
       " 50,\n",
       " 51,\n",
       " 52,\n",
       " 53,\n",
       " 54,\n",
       " 55,\n",
       " 56,\n",
       " 57,\n",
       " 58,\n",
       " 59,\n",
       " 60,\n",
       " 61,\n",
       " 62,\n",
       " 63,\n",
       " 64,\n",
       " 65,\n",
       " 66,\n",
       " 67,\n",
       " 68,\n",
       " 69,\n",
       " 70,\n",
       " 71,\n",
       " 72,\n",
       " 73,\n",
       " 74,\n",
       " 75,\n",
       " 76,\n",
       " 77,\n",
       " 78,\n",
       " 79,\n",
       " 80,\n",
       " 81,\n",
       " 82,\n",
       " 83,\n",
       " 84,\n",
       " 85,\n",
       " 86,\n",
       " 87,\n",
       " 88,\n",
       " 89,\n",
       " 90,\n",
       " 91,\n",
       " 92,\n",
       " 93,\n",
       " 94,\n",
       " 95,\n",
       " 96,\n",
       " 97,\n",
       " 98,\n",
       " 99,\n",
       " 100]"
      ]
     },
     "execution_count": 31,
     "metadata": {},
     "output_type": "execute_result"
    }
   ],
   "source": [
    "list(range(0,101))"
   ]
  },
  {
   "cell_type": "code",
   "execution_count": 33,
   "id": "848d38a2",
   "metadata": {},
   "outputs": [
    {
     "data": {
      "text/plain": [
       "[2,\n",
       " 4,\n",
       " 6,\n",
       " 8,\n",
       " 10,\n",
       " 12,\n",
       " 14,\n",
       " 16,\n",
       " 18,\n",
       " 20,\n",
       " 22,\n",
       " 24,\n",
       " 26,\n",
       " 28,\n",
       " 30,\n",
       " 32,\n",
       " 34,\n",
       " 36,\n",
       " 38,\n",
       " 40,\n",
       " 42,\n",
       " 44,\n",
       " 46,\n",
       " 48,\n",
       " 50,\n",
       " 52,\n",
       " 54,\n",
       " 56,\n",
       " 58,\n",
       " 60,\n",
       " 62,\n",
       " 64,\n",
       " 66,\n",
       " 68,\n",
       " 70,\n",
       " 72,\n",
       " 74,\n",
       " 76,\n",
       " 78,\n",
       " 80,\n",
       " 82,\n",
       " 84,\n",
       " 86,\n",
       " 88,\n",
       " 90,\n",
       " 92,\n",
       " 94,\n",
       " 96,\n",
       " 98,\n",
       " 100]"
      ]
     },
     "execution_count": 33,
     "metadata": {},
     "output_type": "execute_result"
    }
   ],
   "source": [
    "list(range(2,101,2))"
   ]
  },
  {
   "cell_type": "code",
   "execution_count": 34,
   "id": "566b4a5c",
   "metadata": {},
   "outputs": [
    {
     "data": {
      "text/plain": [
       "[1,\n",
       " 3,\n",
       " 5,\n",
       " 7,\n",
       " 9,\n",
       " 11,\n",
       " 13,\n",
       " 15,\n",
       " 17,\n",
       " 19,\n",
       " 21,\n",
       " 23,\n",
       " 25,\n",
       " 27,\n",
       " 29,\n",
       " 31,\n",
       " 33,\n",
       " 35,\n",
       " 37,\n",
       " 39,\n",
       " 41,\n",
       " 43,\n",
       " 45,\n",
       " 47,\n",
       " 49,\n",
       " 51,\n",
       " 53,\n",
       " 55,\n",
       " 57,\n",
       " 59,\n",
       " 61,\n",
       " 63,\n",
       " 65,\n",
       " 67,\n",
       " 69,\n",
       " 71,\n",
       " 73,\n",
       " 75,\n",
       " 77,\n",
       " 79,\n",
       " 81,\n",
       " 83,\n",
       " 85,\n",
       " 87,\n",
       " 89,\n",
       " 91,\n",
       " 93,\n",
       " 95,\n",
       " 97,\n",
       " 99]"
      ]
     },
     "execution_count": 34,
     "metadata": {},
     "output_type": "execute_result"
    }
   ],
   "source": [
    "list(range(1,101,2))"
   ]
  },
  {
   "cell_type": "code",
   "execution_count": 41,
   "id": "9addc770",
   "metadata": {},
   "outputs": [
    {
     "name": "stdout",
     "output_type": "stream",
     "text": [
      "5050\n"
     ]
    }
   ],
   "source": [
    "s=0\n",
    "for i in range(0,101):\n",
    "    s=s+i\n",
    "print(s)"
   ]
  },
  {
   "cell_type": "code",
   "execution_count": 42,
   "id": "45f7a514",
   "metadata": {},
   "outputs": [
    {
     "name": "stdout",
     "output_type": "stream",
     "text": [
      "2550\n"
     ]
    }
   ],
   "source": [
    "s=0\n",
    "for i in range(0,101,2):\n",
    "    s=s+i\n",
    "print(s)"
   ]
  },
  {
   "cell_type": "code",
   "execution_count": 43,
   "id": "c741c395",
   "metadata": {},
   "outputs": [
    {
     "name": "stdout",
     "output_type": "stream",
     "text": [
      "2500\n"
     ]
    }
   ],
   "source": [
    "s=0\n",
    "for i in range(1,101,2):\n",
    "    s=s+i\n",
    "print(s)"
   ]
  },
  {
   "cell_type": "code",
   "execution_count": 64,
   "id": "e4fc44e4",
   "metadata": {},
   "outputs": [
    {
     "name": "stdout",
     "output_type": "stream",
     "text": [
      "        #\n",
      "       #\n",
      "      #\n",
      "     #\n",
      "    #\n",
      "   #\n",
      "  #\n"
     ]
    }
   ],
   "source": [
    "n=7\n",
    "for i in range(n):\n",
    "    st=\" \"\n",
    "    for j in range(7-i):\n",
    "        st=st+\" \"\n",
    "    print(st+\"#\")"
   ]
  },
  {
   "cell_type": "code",
   "execution_count": 1,
   "id": "7d743649",
   "metadata": {},
   "outputs": [
    {
     "name": "stdout",
     "output_type": "stream",
     "text": [
      "숫자 3개를 입력하세요10 20 30\n",
      "30 20 10\n"
     ]
    }
   ],
   "source": [
    "x,y,z=map(int,input(\"숫자 3개를 입력하세요\").split())\n",
    "if((x>y)and(x>z)):\n",
    "    if(y>z):\n",
    "        print(x,y,z)\n",
    "    else:\n",
    "        print(x,z,y)\n",
    "elif((y>x)and(y>z)):\n",
    "    if(x>z):\n",
    "        print(y,x,z)\n",
    "    else:\n",
    "        print(y,z,x)\n",
    "elif((z>x)and(z>y)):\n",
    "    if(x>y):\n",
    "        print(z,x,y)\n",
    "    else:\n",
    "        print(z,y,x)"
   ]
  },
  {
   "cell_type": "code",
   "execution_count": 2,
   "id": "c1fe5328",
   "metadata": {},
   "outputs": [
    {
     "name": "stdout",
     "output_type": "stream",
     "text": [
      "점의 좌표 x,y를 입력하시오4 -3\n",
      "4사분면에 있음\n"
     ]
    }
   ],
   "source": [
    "x,y=map(int,input(\"점의 좌표 x,y를 입력하시오\").split())\n",
    "if(x>0):\n",
    "    if(y>0):\n",
    "        print(\"1사분면에 있음\")\n",
    "    else:\n",
    "        print(\"4사분면에 있음\")\n",
    "if(x<0):\n",
    "    if(y>0):\n",
    "        print(\"2사분면에 있음\")\n",
    "    else:\n",
    "        print(\"3사분면에 있음\")"
   ]
  },
  {
   "cell_type": "code",
   "execution_count": 3,
   "id": "ca1a3ffd",
   "metadata": {},
   "outputs": [
    {
     "name": "stdout",
     "output_type": "stream",
     "text": [
      "게임점수를 입력하세요1030\n",
      "고수입니다.\n"
     ]
    }
   ],
   "source": [
    "x=int(input(\"게임점수를 입력하세요\"))\n",
    "if x>1000:\n",
    "    print(\"고수입니다.\")\n",
    "else:\n",
    "    print(\"입문자입니다\")"
   ]
  },
  {
   "cell_type": "code",
   "execution_count": null,
   "id": "7819ddfd",
   "metadata": {},
   "outputs": [],
   "source": [
    "for i in range(3):\n",
    "    print('Python')\n",
    "    print('is')\n",
    "    print('FUN!')"
   ]
  },
  {
   "cell_type": "code",
   "execution_count": 1,
   "id": "f0f17143",
   "metadata": {},
   "outputs": [
    {
     "name": "stdout",
     "output_type": "stream",
     "text": [
      "Python\n",
      "is\n",
      "Python\n",
      "is\n",
      "Python\n",
      "is\n",
      "FUN!\n"
     ]
    }
   ],
   "source": [
    "for i in range(3):\n",
    "    print('Python')\n",
    "    print('is')\n",
    "print('FUN!')"
   ]
  },
  {
   "cell_type": "code",
   "execution_count": 9,
   "id": "dfe9e593",
   "metadata": {},
   "outputs": [
    {
     "name": "stdout",
     "output_type": "stream",
     "text": [
      "숫자 입력 : 4\n",
      "소수가 아닙니다.\n"
     ]
    }
   ],
   "source": [
    "num = int(input(\"숫자 입력 : \"))\n",
    "for i in range(3, num,2):\n",
    "    if (num % i == 0)or(num%2==0):\n",
    "        print(\"소수가 아닙니다.\")\n",
    "        break\n",
    "else:\n",
    "    print(\"소수입니다.\")"
   ]
  },
  {
   "cell_type": "code",
   "execution_count": 10,
   "id": "0b6055b8",
   "metadata": {},
   "outputs": [
    {
     "name": "stdout",
     "output_type": "stream",
     "text": [
      "세 자리의 암스트롱 수\n",
      "153\n",
      "370\n",
      "371\n",
      "407\n"
     ]
    }
   ],
   "source": [
    "print(\"세 자리의 암스트롱 수\")\n",
    "for i in range(100,1000,1):\n",
    "    sum=0\n",
    "    a=i\n",
    "    sum+=(a%10)**3\n",
    "    a=a//10\n",
    "    sum+=(a%10)**3\n",
    "    a=a//10\n",
    "    sum+=(a%10)**3\n",
    "    if(sum==i):print(i)"
   ]
  },
  {
   "cell_type": "code",
   "execution_count": 14,
   "id": "fd26e62a",
   "metadata": {},
   "outputs": [
    {
     "name": "stdout",
     "output_type": "stream",
     "text": [
      "1에서 9까지의 수를 입력하세요 : 2\n",
      "2 * 1 = 2\n",
      "2 * 2 = 4\n",
      "2 * 3 = 6\n",
      "2 * 4 = 8\n",
      "2 * 5 = 10\n",
      "2 * 6 = 12\n",
      "2 * 7 = 14\n",
      "2 * 8 = 16\n",
      "2 * 9 = 18\n"
     ]
    }
   ],
   "source": [
    "num = int(input(\"1에서 9까지의 수를 입력하세요 : \"))\n",
    "while(num>9):num = int(input(\"1에서 9까지의 수를 다시 입력하세요: \"))\n",
    "for i in range(1,10):\n",
    "    print(num,\"*\",i,\"=\",num*i)"
   ]
  },
  {
   "cell_type": "code",
   "execution_count": 20,
   "id": "97772a18",
   "metadata": {},
   "outputs": [
    {
     "name": "stdout",
     "output_type": "stream",
     "text": [
      "맛나 식당에 오신것을 환영합니다. 메뉴는 다음과 같습니다\n",
      "-삼겹구이 (입력 s)\n",
      "-오삼불고기 (입력 o)\n",
      "-된장찌개 (입력 d)\n",
      "메뉴를 선택하세요(알파벳 s,o,d 입력 :)t\n",
      "메뉴를 다시 입력하세요(알파벳 s,o,d 입력 :)h\n",
      "메뉴를 다시 입력하세요(알파벳 s,o,d 입력 :)d\n",
      "된장찌개를  선택하셨습니다.\n"
     ]
    }
   ],
   "source": [
    "print(\"맛나 식당에 오신것을 환영합니다. 메뉴는 다음과 같습니다\")\n",
    "print(\"-삼겹구이 (입력 s)\")\n",
    "print(\"-오삼불고기 (입력 o)\")\n",
    "print(\"-된장찌개 (입력 d)\")\n",
    "menu = input(\"메뉴를 선택하세요(알파벳 s,o,d 입력 :)\")\n",
    "while(True):\n",
    "    if(menu=='s'):\n",
    "        print(\"삼겹구이를  선택하셨습니다.\")\n",
    "        break;\n",
    "    if(menu=='o'):\n",
    "        print(\"오삼불고기를  선택하셨습니다.\")\n",
    "        break;\n",
    "    if(menu=='d'):\n",
    "        print(\"된장찌개를  선택하셨습니다.\")\n",
    "        break;\n",
    "    menu = input(\"메뉴를 다시 입력하세요(알파벳 s,o,d 입력 :)\")\n",
    "                        \n",
    "                        "
   ]
  },
  {
   "cell_type": "code",
   "execution_count": 29,
   "id": "766c57ec",
   "metadata": {},
   "outputs": [
    {
     "name": "stdout",
     "output_type": "stream",
     "text": [
      "숫자 입력 : 10\n",
      "                    \n",
      "\n",
      "                  * \n",
      "\n",
      "                * * \n",
      "\n",
      "              * * * \n",
      "\n",
      "            * * * * \n",
      "\n",
      "          * * * * * \n",
      "\n",
      "        * * * * * * \n",
      "\n",
      "      * * * * * * * \n",
      "\n",
      "    * * * * * * * * \n",
      "\n",
      "  * * * * * * * * * \n",
      "\n",
      "* * * * * * * * * * \n",
      "\n"
     ]
    }
   ],
   "source": [
    "size =int(input(\"숫자 입력 : \"))\n",
    "for i in range(0,size+1):\n",
    "    for j in range(size-i,0,-1):\n",
    "        print(\" \", end=' ')\n",
    "    for j in range(0,i):\n",
    "        print(\"*\", end=' ')\n",
    "    print(\"\\n\")"
   ]
  },
  {
   "cell_type": "code",
   "execution_count": 39,
   "id": "0cf5bd28",
   "metadata": {},
   "outputs": [
    {
     "name": "stdout",
     "output_type": "stream",
     "text": [
      "n을 입력하시오 : 7\n",
      "1 2 3 4 5 6 7 \n",
      "\n",
      "14 13 12 11 10 9 8 \n",
      "\n",
      "15 16 17 18 19 20 21 \n",
      "\n",
      "28 27 26 25 24 23 22 \n",
      "\n",
      "29 30 31 32 33 34 35 \n",
      "\n",
      "42 41 40 39 38 37 36 \n",
      "\n",
      "43 44 45 46 47 48 49 \n",
      "\n"
     ]
    }
   ],
   "source": [
    "n =int(input(\"n을 입력하시오 : \"))\n",
    "num=1;\n",
    "line=1\n",
    "for i in range(0,n):\n",
    "    if(line==1):\n",
    "        line=0\n",
    "        for j in range(0,n):\n",
    "            print(num, end=' ')\n",
    "            num=num+1\n",
    "        print(\"\\n\")\n",
    "        num=num-1\n",
    "        continue;\n",
    "    if(line==0):\n",
    "        line=1\n",
    "        num+=n\n",
    "        for j in range(0,n):\n",
    "            print(num, end=' ')\n",
    "            num=num-1\n",
    "        num+=n\n",
    "        print(\"\\n\")\n",
    "        num=num+1\n",
    "        continue;"
   ]
  }
 ],
 "metadata": {
  "kernelspec": {
   "display_name": "Python 3 (ipykernel)",
   "language": "python",
   "name": "python3"
  },
  "language_info": {
   "codemirror_mode": {
    "name": "ipython",
    "version": 3
   },
   "file_extension": ".py",
   "mimetype": "text/x-python",
   "name": "python",
   "nbconvert_exporter": "python",
   "pygments_lexer": "ipython3",
   "version": "3.9.12"
  }
 },
 "nbformat": 4,
 "nbformat_minor": 5
}
